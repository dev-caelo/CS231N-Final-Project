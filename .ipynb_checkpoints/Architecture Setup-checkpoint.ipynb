{
 "cells": [
  {
   "cell_type": "markdown",
   "id": "83f9d119-1c9c-4d1b-923b-e6bd49f45b5f",
   "metadata": {},
   "source": [
    "Hello! Welcome to the architecture setup notebook, where we will be installing all requirements and outline the basic architecture of our proposed model (whose performance will be compared to AlexNet, EfficentNet, ConvNeXt)"
   ]
  },
  {
   "cell_type": "code",
   "execution_count": 3,
   "id": "d1e7b0f3-17de-4abc-bdd0-ea94640db448",
   "metadata": {},
   "outputs": [
    {
     "name": "stdout",
     "output_type": "stream",
     "text": [
      "\u001b[31mERROR: numpy-1.26.4-cp312-cp312-macosx_10_9_x86_64.whl is not a supported wheel on this platform.\u001b[0m\n"
     ]
    }
   ],
   "source": [
    "!pip install -r ./requirements.txt"
   ]
  },
  {
   "cell_type": "code",
   "execution_count": null,
   "id": "3bf96ccc-e22b-426f-9320-d67028965763",
   "metadata": {},
   "outputs": [],
   "source": []
  },
  {
   "cell_type": "code",
   "execution_count": null,
   "id": "b2180e0c-659a-4877-a461-0661a0005f65",
   "metadata": {},
   "outputs": [],
   "source": []
  }
 ],
 "metadata": {
  "kernelspec": {
   "display_name": "Python 3 (ipykernel)",
   "language": "python",
   "name": "python3"
  },
  "language_info": {
   "codemirror_mode": {
    "name": "ipython",
    "version": 3
   },
   "file_extension": ".py",
   "mimetype": "text/x-python",
   "name": "python",
   "nbconvert_exporter": "python",
   "pygments_lexer": "ipython3",
   "version": "3.8.10"
  }
 },
 "nbformat": 4,
 "nbformat_minor": 5
}
