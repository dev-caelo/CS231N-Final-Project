{
 "cells": [
  {
   "cell_type": "markdown",
   "id": "075abaa8-3eaa-4d27-aaae-b4c9e68890a0",
   "metadata": {},
   "source": [
    "# Data Preprocessing\n",
    "\n",
    "Daisy Wang\n",
    "\n",
    "## pip3 install all required packages"
   ]
  },
  {
   "cell_type": "code",
   "execution_count": 29,
   "id": "040653c9-fee3-40f4-9582-8b0c7e0dcaff",
   "metadata": {},
   "outputs": [
    {
     "name": "stdout",
     "output_type": "stream",
     "text": [
      "Requirement already satisfied: numpy in /Users/DaisyWang/Desktop/Work/Cremer/ls/lib/python3.10/site-packages (from -r ../../requirements.txt (line 1)) (1.26.4)\n",
      "Requirement already satisfied: transformers in /Users/DaisyWang/Desktop/Work/Cremer/ls/lib/python3.10/site-packages (from -r ../../requirements.txt (line 2)) (4.41.2)\n",
      "Requirement already satisfied: matplotlib in /Users/DaisyWang/Desktop/Work/Cremer/ls/lib/python3.10/site-packages (from -r ../../requirements.txt (line 3)) (3.9.0)\n",
      "Requirement already satisfied: torch in /Users/DaisyWang/Desktop/Work/Cremer/ls/lib/python3.10/site-packages (from -r ../../requirements.txt (line 4)) (2.3.0)\n",
      "Requirement already satisfied: torchvision in /Users/DaisyWang/Desktop/Work/Cremer/ls/lib/python3.10/site-packages (from -r ../../requirements.txt (line 5)) (0.18.0)\n",
      "Requirement already satisfied: kaggle in /Users/DaisyWang/Desktop/Work/Cremer/ls/lib/python3.10/site-packages (from -r ../../requirements.txt (line 6)) (1.6.14)\n",
      "Requirement already satisfied: scikit-learn in /Users/DaisyWang/Desktop/Work/Cremer/ls/lib/python3.10/site-packages (from -r ../../requirements.txt (line 7)) (1.5.0)\n",
      "Requirement already satisfied: tensorflow in /Users/DaisyWang/Desktop/Work/Cremer/ls/lib/python3.10/site-packages (from -r ../../requirements.txt (line 8)) (2.16.1)\n",
      "Requirement already satisfied: keras in /Users/DaisyWang/Desktop/Work/Cremer/ls/lib/python3.10/site-packages (from -r ../../requirements.txt (line 9)) (3.3.3)\n",
      "Requirement already satisfied: seaborn in /Users/DaisyWang/Desktop/Work/Cremer/ls/lib/python3.10/site-packages (from -r ../../requirements.txt (line 10)) (0.13.2)\n",
      "Requirement already satisfied: pandas in /Users/DaisyWang/Desktop/Work/Cremer/ls/lib/python3.10/site-packages (from -r ../../requirements.txt (line 11)) (2.2.2)\n",
      "Requirement already satisfied: opencv-python in /Users/DaisyWang/Desktop/Work/Cremer/ls/lib/python3.10/site-packages (from -r ../../requirements.txt (line 13)) (4.9.0.80)\n",
      "Requirement already satisfied: packaging>=20.0 in /Users/DaisyWang/Desktop/Work/Cremer/ls/lib/python3.10/site-packages (from transformers->-r ../../requirements.txt (line 2)) (23.1)\n",
      "Requirement already satisfied: pyyaml>=5.1 in /Users/DaisyWang/Desktop/Work/Cremer/ls/lib/python3.10/site-packages (from transformers->-r ../../requirements.txt (line 2)) (6.0.1)\n",
      "Requirement already satisfied: tokenizers<0.20,>=0.19 in /Users/DaisyWang/Desktop/Work/Cremer/ls/lib/python3.10/site-packages (from transformers->-r ../../requirements.txt (line 2)) (0.19.1)\n",
      "Requirement already satisfied: requests in /Users/DaisyWang/Desktop/Work/Cremer/ls/lib/python3.10/site-packages (from transformers->-r ../../requirements.txt (line 2)) (2.31.0)\n",
      "Requirement already satisfied: huggingface-hub<1.0,>=0.23.0 in /Users/DaisyWang/Desktop/Work/Cremer/ls/lib/python3.10/site-packages (from transformers->-r ../../requirements.txt (line 2)) (0.23.2)\n",
      "Requirement already satisfied: tqdm>=4.27 in /Users/DaisyWang/Desktop/Work/Cremer/ls/lib/python3.10/site-packages (from transformers->-r ../../requirements.txt (line 2)) (4.65.0)\n",
      "Requirement already satisfied: safetensors>=0.4.1 in /Users/DaisyWang/Desktop/Work/Cremer/ls/lib/python3.10/site-packages (from transformers->-r ../../requirements.txt (line 2)) (0.4.3)\n",
      "Requirement already satisfied: regex!=2019.12.17 in /Users/DaisyWang/Desktop/Work/Cremer/ls/lib/python3.10/site-packages (from transformers->-r ../../requirements.txt (line 2)) (2024.5.15)\n",
      "Requirement already satisfied: filelock in /Users/DaisyWang/Desktop/Work/Cremer/ls/lib/python3.10/site-packages (from transformers->-r ../../requirements.txt (line 2)) (3.14.0)\n",
      "Requirement already satisfied: cycler>=0.10 in /Users/DaisyWang/Desktop/Work/Cremer/ls/lib/python3.10/site-packages (from matplotlib->-r ../../requirements.txt (line 3)) (0.12.1)\n",
      "Requirement already satisfied: pillow>=8 in /Users/DaisyWang/Desktop/Work/Cremer/ls/lib/python3.10/site-packages (from matplotlib->-r ../../requirements.txt (line 3)) (10.3.0)\n",
      "Requirement already satisfied: fonttools>=4.22.0 in /Users/DaisyWang/Desktop/Work/Cremer/ls/lib/python3.10/site-packages (from matplotlib->-r ../../requirements.txt (line 3)) (4.52.4)\n",
      "Requirement already satisfied: kiwisolver>=1.3.1 in /Users/DaisyWang/Desktop/Work/Cremer/ls/lib/python3.10/site-packages (from matplotlib->-r ../../requirements.txt (line 3)) (1.4.5)\n",
      "Requirement already satisfied: python-dateutil>=2.7 in /Users/DaisyWang/Desktop/Work/Cremer/ls/lib/python3.10/site-packages (from matplotlib->-r ../../requirements.txt (line 3)) (2.8.2)\n",
      "Requirement already satisfied: contourpy>=1.0.1 in /Users/DaisyWang/Desktop/Work/Cremer/ls/lib/python3.10/site-packages (from matplotlib->-r ../../requirements.txt (line 3)) (1.2.1)\n",
      "Requirement already satisfied: pyparsing>=2.3.1 in /Users/DaisyWang/Desktop/Work/Cremer/ls/lib/python3.10/site-packages (from matplotlib->-r ../../requirements.txt (line 3)) (3.1.2)\n",
      "Requirement already satisfied: fsspec in /Users/DaisyWang/Desktop/Work/Cremer/ls/lib/python3.10/site-packages (from torch->-r ../../requirements.txt (line 4)) (2024.5.0)\n",
      "Requirement already satisfied: sympy in /Users/DaisyWang/Desktop/Work/Cremer/ls/lib/python3.10/site-packages (from torch->-r ../../requirements.txt (line 4)) (1.12.1)\n",
      "Requirement already satisfied: networkx in /Users/DaisyWang/Desktop/Work/Cremer/ls/lib/python3.10/site-packages (from torch->-r ../../requirements.txt (line 4)) (3.3)\n",
      "Requirement already satisfied: jinja2 in /Users/DaisyWang/Desktop/Work/Cremer/ls/lib/python3.10/site-packages (from torch->-r ../../requirements.txt (line 4)) (3.1.4)\n",
      "Requirement already satisfied: typing-extensions>=4.8.0 in /Users/DaisyWang/Desktop/Work/Cremer/ls/lib/python3.10/site-packages (from torch->-r ../../requirements.txt (line 4)) (4.12.0)\n",
      "Requirement already satisfied: six>=1.10 in /Users/DaisyWang/Desktop/Work/Cremer/ls/lib/python3.10/site-packages (from kaggle->-r ../../requirements.txt (line 6)) (1.16.0)\n",
      "Requirement already satisfied: python-slugify in /Users/DaisyWang/Desktop/Work/Cremer/ls/lib/python3.10/site-packages (from kaggle->-r ../../requirements.txt (line 6)) (8.0.4)\n",
      "Requirement already satisfied: urllib3 in /Users/DaisyWang/Desktop/Work/Cremer/ls/lib/python3.10/site-packages (from kaggle->-r ../../requirements.txt (line 6)) (2.0.4)\n",
      "Requirement already satisfied: bleach in /Users/DaisyWang/Desktop/Work/Cremer/ls/lib/python3.10/site-packages (from kaggle->-r ../../requirements.txt (line 6)) (6.1.0)\n",
      "Requirement already satisfied: certifi>=2023.7.22 in /Users/DaisyWang/Desktop/Work/Cremer/ls/lib/python3.10/site-packages (from kaggle->-r ../../requirements.txt (line 6)) (2023.7.22)\n",
      "Requirement already satisfied: scipy>=1.6.0 in /Users/DaisyWang/Desktop/Work/Cremer/ls/lib/python3.10/site-packages (from scikit-learn->-r ../../requirements.txt (line 7)) (1.13.1)\n",
      "Requirement already satisfied: threadpoolctl>=3.1.0 in /Users/DaisyWang/Desktop/Work/Cremer/ls/lib/python3.10/site-packages (from scikit-learn->-r ../../requirements.txt (line 7)) (3.5.0)\n",
      "Requirement already satisfied: joblib>=1.2.0 in /Users/DaisyWang/Desktop/Work/Cremer/ls/lib/python3.10/site-packages (from scikit-learn->-r ../../requirements.txt (line 7)) (1.4.2)\n",
      "Requirement already satisfied: setuptools in /Users/DaisyWang/Desktop/Work/Cremer/ls/lib/python3.10/site-packages (from tensorflow->-r ../../requirements.txt (line 8)) (68.0.0)\n",
      "Requirement already satisfied: ml-dtypes~=0.3.1 in /Users/DaisyWang/Desktop/Work/Cremer/ls/lib/python3.10/site-packages (from tensorflow->-r ../../requirements.txt (line 8)) (0.3.2)\n",
      "Requirement already satisfied: opt-einsum>=2.3.2 in /Users/DaisyWang/Desktop/Work/Cremer/ls/lib/python3.10/site-packages (from tensorflow->-r ../../requirements.txt (line 8)) (3.3.0)\n",
      "Requirement already satisfied: google-pasta>=0.1.1 in /Users/DaisyWang/Desktop/Work/Cremer/ls/lib/python3.10/site-packages (from tensorflow->-r ../../requirements.txt (line 8)) (0.2.0)\n",
      "Requirement already satisfied: astunparse>=1.6.0 in /Users/DaisyWang/Desktop/Work/Cremer/ls/lib/python3.10/site-packages (from tensorflow->-r ../../requirements.txt (line 8)) (1.6.3)\n",
      "Requirement already satisfied: gast!=0.5.0,!=0.5.1,!=0.5.2,>=0.2.1 in /Users/DaisyWang/Desktop/Work/Cremer/ls/lib/python3.10/site-packages (from tensorflow->-r ../../requirements.txt (line 8)) (0.5.4)\n",
      "Requirement already satisfied: termcolor>=1.1.0 in /Users/DaisyWang/Desktop/Work/Cremer/ls/lib/python3.10/site-packages (from tensorflow->-r ../../requirements.txt (line 8)) (2.4.0)\n",
      "Requirement already satisfied: absl-py>=1.0.0 in /Users/DaisyWang/Desktop/Work/Cremer/ls/lib/python3.10/site-packages (from tensorflow->-r ../../requirements.txt (line 8)) (2.1.0)\n",
      "Requirement already satisfied: tensorboard<2.17,>=2.16 in /Users/DaisyWang/Desktop/Work/Cremer/ls/lib/python3.10/site-packages (from tensorflow->-r ../../requirements.txt (line 8)) (2.16.2)\n",
      "Requirement already satisfied: flatbuffers>=23.5.26 in /Users/DaisyWang/Desktop/Work/Cremer/ls/lib/python3.10/site-packages (from tensorflow->-r ../../requirements.txt (line 8)) (24.3.25)\n",
      "Requirement already satisfied: protobuf!=4.21.0,!=4.21.1,!=4.21.2,!=4.21.3,!=4.21.4,!=4.21.5,<5.0.0dev,>=3.20.3 in /Users/DaisyWang/Desktop/Work/Cremer/ls/lib/python3.10/site-packages (from tensorflow->-r ../../requirements.txt (line 8)) (4.25.3)\n",
      "Requirement already satisfied: wrapt>=1.11.0 in /Users/DaisyWang/Desktop/Work/Cremer/ls/lib/python3.10/site-packages (from tensorflow->-r ../../requirements.txt (line 8)) (1.16.0)\n",
      "Requirement already satisfied: tensorflow-io-gcs-filesystem>=0.23.1 in /Users/DaisyWang/Desktop/Work/Cremer/ls/lib/python3.10/site-packages (from tensorflow->-r ../../requirements.txt (line 8)) (0.37.0)\n",
      "Requirement already satisfied: libclang>=13.0.0 in /Users/DaisyWang/Desktop/Work/Cremer/ls/lib/python3.10/site-packages (from tensorflow->-r ../../requirements.txt (line 8)) (18.1.1)\n",
      "Requirement already satisfied: grpcio<2.0,>=1.24.3 in /Users/DaisyWang/Desktop/Work/Cremer/ls/lib/python3.10/site-packages (from tensorflow->-r ../../requirements.txt (line 8)) (1.64.0)\n",
      "Requirement already satisfied: h5py>=3.10.0 in /Users/DaisyWang/Desktop/Work/Cremer/ls/lib/python3.10/site-packages (from tensorflow->-r ../../requirements.txt (line 8)) (3.11.0)\n",
      "Requirement already satisfied: namex in /Users/DaisyWang/Desktop/Work/Cremer/ls/lib/python3.10/site-packages (from keras->-r ../../requirements.txt (line 9)) (0.0.8)\n",
      "Requirement already satisfied: rich in /Users/DaisyWang/Desktop/Work/Cremer/ls/lib/python3.10/site-packages (from keras->-r ../../requirements.txt (line 9)) (13.7.1)\n",
      "Requirement already satisfied: optree in /Users/DaisyWang/Desktop/Work/Cremer/ls/lib/python3.10/site-packages (from keras->-r ../../requirements.txt (line 9)) (0.11.0)\n",
      "Requirement already satisfied: pytz>=2020.1 in /Users/DaisyWang/Desktop/Work/Cremer/ls/lib/python3.10/site-packages (from pandas->-r ../../requirements.txt (line 11)) (2024.1)\n",
      "Requirement already satisfied: tzdata>=2022.7 in /Users/DaisyWang/Desktop/Work/Cremer/ls/lib/python3.10/site-packages (from pandas->-r ../../requirements.txt (line 11)) (2024.1)\n",
      "Requirement already satisfied: wheel<1.0,>=0.23.0 in /Users/DaisyWang/Desktop/Work/Cremer/ls/lib/python3.10/site-packages (from astunparse>=1.6.0->tensorflow->-r ../../requirements.txt (line 8)) (0.41.0)\n",
      "Requirement already satisfied: idna<4,>=2.5 in /Users/DaisyWang/Desktop/Work/Cremer/ls/lib/python3.10/site-packages (from requests->transformers->-r ../../requirements.txt (line 2)) (3.4)\n",
      "Requirement already satisfied: charset-normalizer<4,>=2 in /Users/DaisyWang/Desktop/Work/Cremer/ls/lib/python3.10/site-packages (from requests->transformers->-r ../../requirements.txt (line 2)) (3.2.0)\n",
      "Requirement already satisfied: markdown>=2.6.8 in /Users/DaisyWang/Desktop/Work/Cremer/ls/lib/python3.10/site-packages (from tensorboard<2.17,>=2.16->tensorflow->-r ../../requirements.txt (line 8)) (3.6)\n",
      "Requirement already satisfied: werkzeug>=1.0.1 in /Users/DaisyWang/Desktop/Work/Cremer/ls/lib/python3.10/site-packages (from tensorboard<2.17,>=2.16->tensorflow->-r ../../requirements.txt (line 8)) (3.0.3)\n",
      "Requirement already satisfied: tensorboard-data-server<0.8.0,>=0.7.0 in /Users/DaisyWang/Desktop/Work/Cremer/ls/lib/python3.10/site-packages (from tensorboard<2.17,>=2.16->tensorflow->-r ../../requirements.txt (line 8)) (0.7.2)\n",
      "Requirement already satisfied: webencodings in /Users/DaisyWang/Desktop/Work/Cremer/ls/lib/python3.10/site-packages (from bleach->kaggle->-r ../../requirements.txt (line 6)) (0.5.1)\n",
      "Requirement already satisfied: MarkupSafe>=2.0 in /Users/DaisyWang/Desktop/Work/Cremer/ls/lib/python3.10/site-packages (from jinja2->torch->-r ../../requirements.txt (line 4)) (2.1.5)\n",
      "Requirement already satisfied: text-unidecode>=1.3 in /Users/DaisyWang/Desktop/Work/Cremer/ls/lib/python3.10/site-packages (from python-slugify->kaggle->-r ../../requirements.txt (line 6)) (1.3)\n",
      "Requirement already satisfied: pygments<3.0.0,>=2.13.0 in /Users/DaisyWang/Desktop/Work/Cremer/ls/lib/python3.10/site-packages (from rich->keras->-r ../../requirements.txt (line 9)) (2.15.1)\n",
      "Requirement already satisfied: markdown-it-py>=2.2.0 in /Users/DaisyWang/Desktop/Work/Cremer/ls/lib/python3.10/site-packages (from rich->keras->-r ../../requirements.txt (line 9)) (3.0.0)\n",
      "Requirement already satisfied: mpmath<1.4.0,>=1.1.0 in /Users/DaisyWang/Desktop/Work/Cremer/ls/lib/python3.10/site-packages (from sympy->torch->-r ../../requirements.txt (line 4)) (1.3.0)\n",
      "Requirement already satisfied: mdurl~=0.1 in /Users/DaisyWang/Desktop/Work/Cremer/ls/lib/python3.10/site-packages (from markdown-it-py>=2.2.0->rich->keras->-r ../../requirements.txt (line 9)) (0.1.2)\n"
     ]
    }
   ],
   "source": [
    "!pip3 install -r ../../requirements.txt"
   ]
  },
  {
   "cell_type": "markdown",
   "id": "5a33cfe7-17e1-410c-8d5b-e3cccfa09d16",
   "metadata": {},
   "source": [
    "## Import packages that we need"
   ]
  },
  {
   "cell_type": "code",
   "execution_count": 9,
   "id": "64d13bef-874a-48f5-a9ab-31fe74b29fef",
   "metadata": {},
   "outputs": [],
   "source": [
    "# import tensorflow/keras stuff\n",
    "import torch\n",
    "from torch.utils.data import DataLoader\n",
    "import torchvision.transforms as transforms\n",
    "from torchvision.datasets import ImageFolder\n",
    "\n",
    "# import data processing/visualisation things\n",
    "import numpy as np"
   ]
  },
  {
   "cell_type": "markdown",
   "id": "79f78299-aff8-40f0-8d30-1437c22e929b",
   "metadata": {},
   "source": [
    "## How to preprocess the data!\n",
    "\n",
    "### DO NOT UNDER THE NEXT CELL ANY UNDER CIRCUMSTANCES"
   ]
  },
  {
   "cell_type": "code",
   "execution_count": 28,
   "id": "a8dcfadb-5de6-4c56-92ee-0b298d9fdd28",
   "metadata": {},
   "outputs": [],
   "source": [
    "## DO NOT EDIT THIS UNDER ANY CIRCUMSTANCES\n",
    "mean = 1.2807e-06\n",
    "std = 2.9160e-07"
   ]
  },
  {
   "cell_type": "markdown",
   "id": "56742aa4-7ef6-4bdd-8e0c-a045e9fae483",
   "metadata": {},
   "source": [
    "### EDIT THIS TO THE CORRECT FILE PATH FOR THE IMAGES IN YOUR SETUP"
   ]
  },
  {
   "cell_type": "code",
   "execution_count": 28,
   "id": "fe4bbfd7-f762-4fdc-b29d-27b43b86f573",
   "metadata": {},
   "outputs": [],
   "source": [
    "### EDIT THIS\n",
    "data_dir = \"PUT YOUR FILE PATH HERE\""
   ]
  },
  {
   "cell_type": "code",
   "execution_count": 25,
   "id": "4d0ecd29-b976-4570-bb36-b7920ba378e2",
   "metadata": {},
   "outputs": [],
   "source": [
    "data_transforms = transforms.Compose([\n",
    "    transforms.Resize((224, 224)),\n",
    "    transforms.ToTensor(),\n",
    "    transforms.Normalize(mean=mean, std=std)\n",
    "])\n",
    "\n",
    "dataset = datasets.ImageFolder(data_dir, transform=data_transforms)"
   ]
  }
 ],
 "metadata": {
  "kernelspec": {
   "display_name": "Python 3 (ipykernel)",
   "language": "python",
   "name": "python3"
  },
  "language_info": {
   "codemirror_mode": {
    "name": "ipython",
    "version": 3
   },
   "file_extension": ".py",
   "mimetype": "text/x-python",
   "name": "python",
   "nbconvert_exporter": "python",
   "pygments_lexer": "ipython3",
   "version": "3.10.12"
  }
 },
 "nbformat": 4,
 "nbformat_minor": 5
}
