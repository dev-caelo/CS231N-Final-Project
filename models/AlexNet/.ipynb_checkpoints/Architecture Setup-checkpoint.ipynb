{
 "cells": [
  {
   "cell_type": "markdown",
   "id": "83f9d119-1c9c-4d1b-923b-e6bd49f45b5f",
   "metadata": {},
   "source": [
    "## Overview\n",
    "\n",
    "Hello! Welcome to the architecture setup notebook, where we will be installing all requirements and outline the basic architecture of our AlexNet model (whose performance will be compared to our custom model, EfficentNet, and ConvNeXt). \n",
    "\n",
    "\n",
    "The cell below handles our initial requirements installation:"
   ]
  },
  {
   "cell_type": "code",
   "execution_count": 6,
   "id": "d1e7b0f3-17de-4abc-bdd0-ea94640db448",
   "metadata": {},
   "outputs": [
    {
     "name": "stdout",
     "output_type": "stream",
     "text": [
      "Requirement already satisfied: numpy in /Users/nicolegarcia/miniconda3/lib/python3.8/site-packages (from -r ../../requirements.txt (line 1)) (1.23.5)\n",
      "Requirement already satisfied: transformers in /Users/nicolegarcia/miniconda3/lib/python3.8/site-packages (from -r ../../requirements.txt (line 2)) (4.41.1)\n",
      "Requirement already satisfied: matplotlib in /Users/nicolegarcia/miniconda3/lib/python3.8/site-packages (from -r ../../requirements.txt (line 3)) (3.7.2)\n",
      "Requirement already satisfied: torch in /Users/nicolegarcia/miniconda3/lib/python3.8/site-packages (from -r ../../requirements.txt (line 4)) (2.2.0)\n",
      "Requirement already satisfied: torchvision in /Users/nicolegarcia/miniconda3/lib/python3.8/site-packages (from -r ../../requirements.txt (line 5)) (0.17.0)\n",
      "Requirement already satisfied: kaggle in /Users/nicolegarcia/miniconda3/lib/python3.8/site-packages (from -r ../../requirements.txt (line 6)) (1.6.14)\n",
      "Requirement already satisfied: scikit-learn in /Users/nicolegarcia/miniconda3/lib/python3.8/site-packages (from -r ../../requirements.txt (line 7)) (1.3.2)\n",
      "Requirement already satisfied: tensorflow in /Users/nicolegarcia/miniconda3/lib/python3.8/site-packages (from -r ../../requirements.txt (line 8)) (2.12.0)\n",
      "Requirement already satisfied: keras in /Users/nicolegarcia/miniconda3/lib/python3.8/site-packages (from -r ../../requirements.txt (line 9)) (2.12.0)\n",
      "Requirement already satisfied: seaborn in /Users/nicolegarcia/miniconda3/lib/python3.8/site-packages (from -r ../../requirements.txt (line 10)) (0.13.2)\n",
      "Requirement already satisfied: pandas in /Users/nicolegarcia/miniconda3/lib/python3.8/site-packages (from -r ../../requirements.txt (line 11)) (2.0.3)\n",
      "Requirement already satisfied: opencv-python in /Users/nicolegarcia/miniconda3/lib/python3.8/site-packages (from -r ../../requirements.txt (line 13)) (4.9.0.80)\n",
      "Requirement already satisfied: pyyaml>=5.1 in /Users/nicolegarcia/miniconda3/lib/python3.8/site-packages (from transformers->-r ../../requirements.txt (line 2)) (6.0.1)\n",
      "Requirement already satisfied: huggingface-hub<1.0,>=0.23.0 in /Users/nicolegarcia/miniconda3/lib/python3.8/site-packages (from transformers->-r ../../requirements.txt (line 2)) (0.23.2)\n",
      "Requirement already satisfied: tqdm>=4.27 in /Users/nicolegarcia/miniconda3/lib/python3.8/site-packages (from transformers->-r ../../requirements.txt (line 2)) (4.65.0)\n",
      "Requirement already satisfied: safetensors>=0.4.1 in /Users/nicolegarcia/miniconda3/lib/python3.8/site-packages (from transformers->-r ../../requirements.txt (line 2)) (0.4.3)\n",
      "Requirement already satisfied: requests in /Users/nicolegarcia/miniconda3/lib/python3.8/site-packages (from transformers->-r ../../requirements.txt (line 2)) (2.31.0)\n",
      "Requirement already satisfied: tokenizers<0.20,>=0.19 in /Users/nicolegarcia/miniconda3/lib/python3.8/site-packages (from transformers->-r ../../requirements.txt (line 2)) (0.19.1)\n",
      "Requirement already satisfied: packaging>=20.0 in /Users/nicolegarcia/miniconda3/lib/python3.8/site-packages (from transformers->-r ../../requirements.txt (line 2)) (23.2)\n",
      "Requirement already satisfied: regex!=2019.12.17 in /Users/nicolegarcia/miniconda3/lib/python3.8/site-packages (from transformers->-r ../../requirements.txt (line 2)) (2024.5.15)\n",
      "Requirement already satisfied: filelock in /Users/nicolegarcia/miniconda3/lib/python3.8/site-packages (from transformers->-r ../../requirements.txt (line 2)) (3.13.1)\n",
      "Requirement already satisfied: kiwisolver>=1.0.1 in /Users/nicolegarcia/miniconda3/lib/python3.8/site-packages (from matplotlib->-r ../../requirements.txt (line 3)) (1.4.4)\n",
      "Requirement already satisfied: cycler>=0.10 in /Users/nicolegarcia/miniconda3/lib/python3.8/site-packages (from matplotlib->-r ../../requirements.txt (line 3)) (0.11.0)\n",
      "Requirement already satisfied: contourpy>=1.0.1 in /Users/nicolegarcia/miniconda3/lib/python3.8/site-packages (from matplotlib->-r ../../requirements.txt (line 3)) (1.0.5)\n",
      "Requirement already satisfied: pillow>=6.2.0 in /Users/nicolegarcia/miniconda3/lib/python3.8/site-packages (from matplotlib->-r ../../requirements.txt (line 3)) (10.0.1)\n",
      "Requirement already satisfied: python-dateutil>=2.7 in /Users/nicolegarcia/miniconda3/lib/python3.8/site-packages (from matplotlib->-r ../../requirements.txt (line 3)) (2.8.2)\n",
      "Requirement already satisfied: importlib-resources>=3.2.0 in /Users/nicolegarcia/miniconda3/lib/python3.8/site-packages (from matplotlib->-r ../../requirements.txt (line 3)) (6.1.1)\n",
      "Requirement already satisfied: fonttools>=4.22.0 in /Users/nicolegarcia/miniconda3/lib/python3.8/site-packages (from matplotlib->-r ../../requirements.txt (line 3)) (4.25.0)\n",
      "Requirement already satisfied: pyparsing<3.1,>=2.3.1 in /Users/nicolegarcia/miniconda3/lib/python3.8/site-packages (from matplotlib->-r ../../requirements.txt (line 3)) (3.0.9)\n",
      "Requirement already satisfied: typing-extensions>=4.8.0 in /Users/nicolegarcia/miniconda3/lib/python3.8/site-packages (from torch->-r ../../requirements.txt (line 4)) (4.9.0)\n",
      "Requirement already satisfied: sympy in /Users/nicolegarcia/miniconda3/lib/python3.8/site-packages (from torch->-r ../../requirements.txt (line 4)) (1.12)\n",
      "Requirement already satisfied: networkx in /Users/nicolegarcia/miniconda3/lib/python3.8/site-packages (from torch->-r ../../requirements.txt (line 4)) (3.1)\n",
      "Requirement already satisfied: jinja2 in /Users/nicolegarcia/miniconda3/lib/python3.8/site-packages (from torch->-r ../../requirements.txt (line 4)) (3.1.3)\n",
      "Requirement already satisfied: fsspec in /Users/nicolegarcia/miniconda3/lib/python3.8/site-packages (from torch->-r ../../requirements.txt (line 4)) (2024.5.0)\n",
      "Requirement already satisfied: certifi>=2023.7.22 in /Users/nicolegarcia/miniconda3/lib/python3.8/site-packages (from kaggle->-r ../../requirements.txt (line 6)) (2024.2.2)\n",
      "Requirement already satisfied: urllib3 in /Users/nicolegarcia/miniconda3/lib/python3.8/site-packages (from kaggle->-r ../../requirements.txt (line 6)) (1.26.18)\n",
      "Requirement already satisfied: python-slugify in /Users/nicolegarcia/miniconda3/lib/python3.8/site-packages (from kaggle->-r ../../requirements.txt (line 6)) (8.0.4)\n",
      "Requirement already satisfied: bleach in /Users/nicolegarcia/miniconda3/lib/python3.8/site-packages (from kaggle->-r ../../requirements.txt (line 6)) (6.1.0)\n",
      "Requirement already satisfied: six>=1.10 in /Users/nicolegarcia/miniconda3/lib/python3.8/site-packages (from kaggle->-r ../../requirements.txt (line 6)) (1.16.0)\n",
      "Requirement already satisfied: threadpoolctl>=2.0.0 in /Users/nicolegarcia/miniconda3/lib/python3.8/site-packages (from scikit-learn->-r ../../requirements.txt (line 7)) (3.5.0)\n",
      "Requirement already satisfied: scipy>=1.5.0 in /Users/nicolegarcia/miniconda3/lib/python3.8/site-packages (from scikit-learn->-r ../../requirements.txt (line 7)) (1.10.1)\n",
      "Requirement already satisfied: joblib>=1.1.1 in /Users/nicolegarcia/miniconda3/lib/python3.8/site-packages (from scikit-learn->-r ../../requirements.txt (line 7)) (1.4.2)\n",
      "Requirement already satisfied: protobuf!=4.21.0,!=4.21.1,!=4.21.2,!=4.21.3,!=4.21.4,!=4.21.5,<5.0.0dev,>=3.20.3 in /Users/nicolegarcia/miniconda3/lib/python3.8/site-packages (from tensorflow->-r ../../requirements.txt (line 8)) (4.25.3)\n",
      "Requirement already satisfied: flatbuffers>=2.0 in /Users/nicolegarcia/miniconda3/lib/python3.8/site-packages (from tensorflow->-r ../../requirements.txt (line 8)) (24.3.25)\n",
      "Requirement already satisfied: wrapt<1.15,>=1.11.0 in /Users/nicolegarcia/miniconda3/lib/python3.8/site-packages (from tensorflow->-r ../../requirements.txt (line 8)) (1.14.1)\n",
      "Requirement already satisfied: absl-py>=1.0.0 in /Users/nicolegarcia/miniconda3/lib/python3.8/site-packages (from tensorflow->-r ../../requirements.txt (line 8)) (2.1.0)\n",
      "Requirement already satisfied: setuptools in /Users/nicolegarcia/miniconda3/lib/python3.8/site-packages (from tensorflow->-r ../../requirements.txt (line 8)) (65.5.0)\n",
      "Requirement already satisfied: libclang>=13.0.0 in /Users/nicolegarcia/miniconda3/lib/python3.8/site-packages (from tensorflow->-r ../../requirements.txt (line 8)) (18.1.1)\n",
      "Requirement already satisfied: astunparse>=1.6.0 in /Users/nicolegarcia/miniconda3/lib/python3.8/site-packages (from tensorflow->-r ../../requirements.txt (line 8)) (1.6.3)\n",
      "Requirement already satisfied: tensorboard<2.13,>=2.12 in /Users/nicolegarcia/miniconda3/lib/python3.8/site-packages (from tensorflow->-r ../../requirements.txt (line 8)) (2.12.3)\n",
      "Requirement already satisfied: jax>=0.3.15 in /Users/nicolegarcia/miniconda3/lib/python3.8/site-packages (from tensorflow->-r ../../requirements.txt (line 8)) (0.4.13)\n",
      "Requirement already satisfied: h5py>=2.9.0 in /Users/nicolegarcia/miniconda3/lib/python3.8/site-packages (from tensorflow->-r ../../requirements.txt (line 8)) (3.11.0)\n",
      "Requirement already satisfied: opt-einsum>=2.3.2 in /Users/nicolegarcia/miniconda3/lib/python3.8/site-packages (from tensorflow->-r ../../requirements.txt (line 8)) (3.3.0)\n",
      "Requirement already satisfied: grpcio<2.0,>=1.24.3 in /Users/nicolegarcia/miniconda3/lib/python3.8/site-packages (from tensorflow->-r ../../requirements.txt (line 8)) (1.64.0)\n",
      "Requirement already satisfied: google-pasta>=0.1.1 in /Users/nicolegarcia/miniconda3/lib/python3.8/site-packages (from tensorflow->-r ../../requirements.txt (line 8)) (0.2.0)\n",
      "Requirement already satisfied: termcolor>=1.1.0 in /Users/nicolegarcia/miniconda3/lib/python3.8/site-packages (from tensorflow->-r ../../requirements.txt (line 8)) (2.4.0)\n",
      "Requirement already satisfied: gast<=0.4.0,>=0.2.1 in /Users/nicolegarcia/miniconda3/lib/python3.8/site-packages (from tensorflow->-r ../../requirements.txt (line 8)) (0.4.0)\n",
      "Requirement already satisfied: tensorflow-estimator<2.13,>=2.12.0 in /Users/nicolegarcia/miniconda3/lib/python3.8/site-packages (from tensorflow->-r ../../requirements.txt (line 8)) (2.12.0)\n",
      "Requirement already satisfied: tensorflow-io-gcs-filesystem>=0.23.1 in /Users/nicolegarcia/miniconda3/lib/python3.8/site-packages (from tensorflow->-r ../../requirements.txt (line 8)) (0.34.0)\n",
      "Requirement already satisfied: tzdata>=2022.1 in /Users/nicolegarcia/miniconda3/lib/python3.8/site-packages (from pandas->-r ../../requirements.txt (line 11)) (2023.3)\n",
      "Requirement already satisfied: pytz>=2020.1 in /Users/nicolegarcia/miniconda3/lib/python3.8/site-packages (from pandas->-r ../../requirements.txt (line 11)) (2023.3.post1)\n",
      "Requirement already satisfied: wheel<1.0,>=0.23.0 in /Users/nicolegarcia/miniconda3/lib/python3.8/site-packages (from astunparse>=1.6.0->tensorflow->-r ../../requirements.txt (line 8)) (0.37.1)\n",
      "Requirement already satisfied: zipp>=3.1.0 in /Users/nicolegarcia/miniconda3/lib/python3.8/site-packages (from importlib-resources>=3.2.0->matplotlib->-r ../../requirements.txt (line 3)) (3.17.0)\n",
      "Requirement already satisfied: ml-dtypes>=0.1.0 in /Users/nicolegarcia/miniconda3/lib/python3.8/site-packages (from jax>=0.3.15->tensorflow->-r ../../requirements.txt (line 8)) (0.2.0)\n",
      "Requirement already satisfied: importlib-metadata>=4.6 in /Users/nicolegarcia/miniconda3/lib/python3.8/site-packages (from jax>=0.3.15->tensorflow->-r ../../requirements.txt (line 8)) (7.1.0)\n",
      "Requirement already satisfied: markdown>=2.6.8 in /Users/nicolegarcia/miniconda3/lib/python3.8/site-packages (from tensorboard<2.13,>=2.12->tensorflow->-r ../../requirements.txt (line 8)) (3.6)\n",
      "Requirement already satisfied: google-auth-oauthlib<1.1,>=0.5 in /Users/nicolegarcia/miniconda3/lib/python3.8/site-packages (from tensorboard<2.13,>=2.12->tensorflow->-r ../../requirements.txt (line 8)) (1.0.0)\n",
      "Requirement already satisfied: werkzeug>=1.0.1 in /Users/nicolegarcia/miniconda3/lib/python3.8/site-packages (from tensorboard<2.13,>=2.12->tensorflow->-r ../../requirements.txt (line 8)) (3.0.3)\n",
      "Requirement already satisfied: google-auth<3,>=1.6.3 in /Users/nicolegarcia/miniconda3/lib/python3.8/site-packages (from tensorboard<2.13,>=2.12->tensorflow->-r ../../requirements.txt (line 8)) (2.29.0)\n",
      "Requirement already satisfied: tensorboard-data-server<0.8.0,>=0.7.0 in /Users/nicolegarcia/miniconda3/lib/python3.8/site-packages (from tensorboard<2.13,>=2.12->tensorflow->-r ../../requirements.txt (line 8)) (0.7.2)\n",
      "Requirement already satisfied: charset-normalizer<4,>=2 in /Users/nicolegarcia/miniconda3/lib/python3.8/site-packages (from requests->transformers->-r ../../requirements.txt (line 2)) (2.0.4)\n",
      "Requirement already satisfied: idna<4,>=2.5 in /Users/nicolegarcia/miniconda3/lib/python3.8/site-packages (from requests->transformers->-r ../../requirements.txt (line 2)) (3.4)\n",
      "Requirement already satisfied: webencodings in /Users/nicolegarcia/miniconda3/lib/python3.8/site-packages (from bleach->kaggle->-r ../../requirements.txt (line 6)) (0.5.1)\n",
      "Requirement already satisfied: MarkupSafe>=2.0 in /Users/nicolegarcia/miniconda3/lib/python3.8/site-packages (from jinja2->torch->-r ../../requirements.txt (line 4)) (2.1.3)\n",
      "Requirement already satisfied: text-unidecode>=1.3 in /Users/nicolegarcia/miniconda3/lib/python3.8/site-packages (from python-slugify->kaggle->-r ../../requirements.txt (line 6)) (1.3)\n",
      "Requirement already satisfied: mpmath>=0.19 in /Users/nicolegarcia/miniconda3/lib/python3.8/site-packages (from sympy->torch->-r ../../requirements.txt (line 4)) (1.3.0)\n",
      "Requirement already satisfied: cachetools<6.0,>=2.0.0 in /Users/nicolegarcia/miniconda3/lib/python3.8/site-packages (from google-auth<3,>=1.6.3->tensorboard<2.13,>=2.12->tensorflow->-r ../../requirements.txt (line 8)) (5.3.3)\n",
      "Requirement already satisfied: pyasn1-modules>=0.2.1 in /Users/nicolegarcia/miniconda3/lib/python3.8/site-packages (from google-auth<3,>=1.6.3->tensorboard<2.13,>=2.12->tensorflow->-r ../../requirements.txt (line 8)) (0.4.0)\n",
      "Requirement already satisfied: rsa<5,>=3.1.4 in /Users/nicolegarcia/miniconda3/lib/python3.8/site-packages (from google-auth<3,>=1.6.3->tensorboard<2.13,>=2.12->tensorflow->-r ../../requirements.txt (line 8)) (4.9)\n",
      "Requirement already satisfied: requests-oauthlib>=0.7.0 in /Users/nicolegarcia/miniconda3/lib/python3.8/site-packages (from google-auth-oauthlib<1.1,>=0.5->tensorboard<2.13,>=2.12->tensorflow->-r ../../requirements.txt (line 8)) (2.0.0)\n",
      "Requirement already satisfied: pyasn1<0.7.0,>=0.4.6 in /Users/nicolegarcia/miniconda3/lib/python3.8/site-packages (from pyasn1-modules>=0.2.1->google-auth<3,>=1.6.3->tensorboard<2.13,>=2.12->tensorflow->-r ../../requirements.txt (line 8)) (0.6.0)\n",
      "Requirement already satisfied: oauthlib>=3.0.0 in /Users/nicolegarcia/miniconda3/lib/python3.8/site-packages (from requests-oauthlib>=0.7.0->google-auth-oauthlib<1.1,>=0.5->tensorboard<2.13,>=2.12->tensorflow->-r ../../requirements.txt (line 8)) (3.2.2)\n"
     ]
    }
   ],
   "source": [
    "!pip3 install -r ../../requirements.txt"
   ]
  },
  {
   "cell_type": "markdown",
   "id": "28d52aad-b30b-493d-ba92-5037af2e7f0a",
   "metadata": {},
   "source": [
    "## Data Preprocessing\n",
    "\n",
    "As part of our data preprocessing, we will split the down-scaled lung dataset from the original dataset into a train/test split. \n",
    "\n",
    "Note that we will be using five-fold cross-validation for testing later, hence we will not be partioning an additional validation set. \n",
    "\n",
    "After splitting our data, we will then feed the training set into our models. Here, we will specifically feed it into the AlexNet model. "
   ]
  },
  {
   "cell_type": "code",
   "execution_count": 7,
   "id": "82b162f0-bf43-4f54-b158-99fea42dffe9",
   "metadata": {},
   "outputs": [],
   "source": [
    "import numpy as np\n",
    "import torch\n",
    "import torch.nn as nn\n",
    "import torch.nn.functional as F\n",
    "import torch.optim as optim\n",
    "import torch.utils.data\n",
    "from torchvision import datasets, models, transforms\n",
    "from torch.utils.data import DataLoader, Subset\n",
    "import torchvision.transforms as transforms\n",
    "from torch.utils.data import SubsetRandomSampler\n",
    "from torchvision.datasets import ImageFolder\n",
    "from sklearn.model_selection import KFold\n",
    "\n",
    "from sklearn.svm import SVC\n",
    "from sklearn.preprocessing import StandardScaler\n",
    "from sklearn.pipeline import make_pipeline\n",
    "from sklearn.metrics import accuracy_score, recall_score, precision_score, f1_score\n",
    "import os\n",
    "\n",
    "from sklearn.decomposition import PCA\n",
    "from sklearn.linear_model import LogisticRegression"
   ]
  },
  {
   "cell_type": "markdown",
   "id": "a733a84b-4a8a-467a-a710-00481ee33691",
   "metadata": {
    "jp-MarkdownHeadingCollapsed": true
   },
   "source": [
    "The code below extracts images from our dataset, resizes each into a fourth their original size (768 -> 192), and converts them into Torch tensors. The ImageFolder class allows us to lazyload our images to preserve our computational power."
   ]
  },
  {
   "cell_type": "code",
   "execution_count": 8,
   "id": "0b130d35-ed66-48f9-8bc4-70d63be800f0",
   "metadata": {},
   "outputs": [],
   "source": [
    "# Path to our lung_image_sets\n",
    "data_dir = \"../../lung_colon_image_set/lung_image_sets\"\n",
    "\n",
    "# Define resized size of images (Put this back to 192 later, recommended size of 224)\n",
    "resized_size = 224\n",
    "\n",
    "# Convert images into Tensors\n",
    "tensor_data = transforms.Compose([\n",
    "  transforms.Resize((resized_size, resized_size)),   # Cut image into a fourth of original size\n",
    "  transforms.ToTensor()\n",
    "])\n",
    "\n",
    "# Load the dataset using ImageFolder\n",
    "data = ImageFolder(root=data_dir, transform=tensor_data)\n",
    "\n",
    "# Split the dataset into train and test sets\n",
    "train_size = int(0.8 * len(data))\n",
    "test_size = len(data) - train_size\n",
    "train, test = torch.utils.data.random_split(data, [train_size, test_size])\n",
    "\n",
    "# Create data loaders for training and testing\n",
    "load_train = DataLoader(train, batch_size=32, shuffle=True)\n",
    "load_test = DataLoader(test, batch_size=32, shuffle=False)"
   ]
  },
  {
   "cell_type": "markdown",
   "id": "c493416c-19f2-4ec5-b0fc-55087b8258bd",
   "metadata": {},
   "source": [
    "## Model Initialization\n",
    "We will initialize the AlexNet model using Pytorch's pretrained AlexNet model and remove the final layer to perform feature extraction on our data."
   ]
  },
  {
   "cell_type": "code",
   "execution_count": 14,
   "id": "bf5eb6da-8330-44ec-96d5-ead70efe5b19",
   "metadata": {},
   "outputs": [],
   "source": [
    "# Initialize AlexNet Model \n",
    "device = torch.device(\"cuda:0\" if torch.cuda.is_available() else \"cpu\")\n",
    "alexnet = models.alexnet(pretrained=True)\n",
    "\n",
    "# Modify AlexNet to Extract Features\n",
    "# Note: we are removing the final layer\n",
    "model = torch.nn.Sequential(*list(alexnet.children())[:-1])\n",
    "model.eval()\n",
    "model = model.to(device)\n",
    "num_features = alexnet.classifier[6].in_features\n",
    "\n",
    "# Define hyperparameters\n",
    "learning_rate = 5e-4\n",
    "momentum = 0.9\n",
    "\n",
    "# Define our loss function and optimizer\n",
    "loss_function = nn.CrossEntropyLoss()\n",
    "optimizer = optim.SGD(model.parameters(), lr=learning_rate, momentum=momentum)"
   ]
  },
  {
   "cell_type": "markdown",
   "id": "317c870c-0c29-479f-9ac4-7e24f497bf26",
   "metadata": {},
   "source": [
    "## AlexNet + SVM Classifier Training and Testing\n",
    "We will perform k-fold cross-validation testing on the SVM classifier, which is trained the on features extracted by our AlexNet model."
   ]
  },
  {
   "cell_type": "code",
   "execution_count": 15,
   "id": "c86ef1e2-752f-4e85-bedd-1e3508f3e3ee",
   "metadata": {},
   "outputs": [],
   "source": [
    "# Extract features for training and validation sets\n",
    "def extract_features(loader, model):\n",
    "    features_list, labels_list = [], []\n",
    "    with torch.no_grad():\n",
    "        for inputs, labels in loader:\n",
    "            inputs = inputs.to(device)\n",
    "            labels = labels.to(device)\n",
    "            features = model(inputs)\n",
    "            features = features.view(features.size(0), -1)\n",
    "            features_list.append(features.cpu().numpy())\n",
    "            labels_list.append(labels.cpu().numpy())\n",
    "    return np.concatenate(features_list), np.concatenate(labels_list)"
   ]
  },
  {
   "cell_type": "code",
   "execution_count": 19,
   "id": "4bb72148-5f67-42da-89be-47f3d424677e",
   "metadata": {},
   "outputs": [
    {
     "name": "stdout",
     "output_type": "stream",
     "text": [
      "Fold 1\n",
      "Fold 1 Accuracy: 0.9173\n",
      "Fold 2\n",
      "Fold 2 Accuracy: 0.9173\n",
      "K-FOLD CROSS VALIDATION RESULTS FOR 2 FOLDS\n",
      "--------------------------------\n",
      "Fold 1: 0.9173\n",
      "Fold 2: 0.9173\n",
      "Average: 0.9173\n"
     ]
    }
   ],
   "source": [
    "# Store the results of each fold\n",
    "num_folds = 5\n",
    "kfold = KFold(n_splits=num_folds, shuffle=True, random_state=231)\n",
    "\n",
    "results = {}\n",
    "\n",
    "# Create the SVM classifier\n",
    "svm_model = make_pipeline(StandardScaler(), SVC(kernel='linear'))\n",
    "\n",
    "# K-Fold Cross Validation\n",
    "for fold, (train_indices, val_indices) in enumerate(kfold.split(train), 1):\n",
    "    print(f'Fold {fold}')\n",
    "\n",
    "    # Create data samplers for train and validation sets\n",
    "    train_sampler = SubsetRandomSampler(train_indices)\n",
    "    val_sampler = SubsetRandomSampler(val_indices)\n",
    "\n",
    "    # Create data loaders for train and validation sets\n",
    "    train_loader = DataLoader(train, batch_size=32, sampler=train_sampler)\n",
    "    val_loader = DataLoader(train, batch_size=32, sampler=val_sampler)\n",
    "    \n",
    "    # Extract features for training and validation sets\n",
    "    train_features, train_labels = extract_features(train_loader, model)\n",
    "    val_features, val_labels = extract_features(val_loader, model)\n",
    "\n",
    "    # Train the SVM classifier\n",
    "    svm_model.fit(train_features, train_labels)\n",
    "\n",
    "    # Evaluate the classifier on the validation set\n",
    "    val_predictions = svm_model.predict(val_features)\n",
    "    accuracy = accuracy_score(val_labels, val_predictions)\n",
    "    results[fold] = accuracy\n",
    "    print(f'Fold {fold} Accuracy: {accuracy:.4f}')\n",
    "\n",
    "# Print the average accuracy across all folds\n",
    "average_accuracy = np.mean(list(results.values()))\n",
    "print(f'K-FOLD CROSS VALIDATION RESULTS FOR {num_folds} FOLDS')\n",
    "print('--------------------------------')\n",
    "for fold in results:\n",
    "    print(f'Fold {fold}: {results[fold]:.4f}')\n",
    "print(f'Average: {average_accuracy:.4f}')"
   ]
  },
  {
   "cell_type": "markdown",
   "id": "248c0991-e26b-4c2c-85da-e4c7c60eb54c",
   "metadata": {},
   "source": [
    "## AlexNet + Softmax Classifier Training and Testing\n",
    "We will perform k-fold cross-validation testing on the Softmax classifier, which is trained the on features extracted by our AlexNet model."
   ]
  },
  {
   "cell_type": "code",
   "execution_count": 17,
   "id": "f4b6ff12-1f1c-490c-9aab-6071a18deb0f",
   "metadata": {},
   "outputs": [
    {
     "name": "stdout",
     "output_type": "stream",
     "text": [
      "Fold 1\n"
     ]
    },
    {
     "name": "stderr",
     "output_type": "stream",
     "text": [
      "/Users/nicolegarcia/miniconda3/lib/python3.8/site-packages/sklearn/linear_model/_logistic.py:460: ConvergenceWarning: lbfgs failed to converge (status=1):\n",
      "STOP: TOTAL NO. of ITERATIONS REACHED LIMIT.\n",
      "\n",
      "Increase the number of iterations (max_iter) or scale the data as shown in:\n",
      "    https://scikit-learn.org/stable/modules/preprocessing.html\n",
      "Please also refer to the documentation for alternative solver options:\n",
      "    https://scikit-learn.org/stable/modules/linear_model.html#logistic-regression\n",
      "  n_iter_i = _check_optimize_result(\n"
     ]
    },
    {
     "name": "stdout",
     "output_type": "stream",
     "text": [
      "Fold 1 Accuracy: 0.9160\n",
      "Fold 2\n"
     ]
    },
    {
     "name": "stderr",
     "output_type": "stream",
     "text": [
      "/Users/nicolegarcia/miniconda3/lib/python3.8/site-packages/sklearn/linear_model/_logistic.py:460: ConvergenceWarning: lbfgs failed to converge (status=1):\n",
      "STOP: TOTAL NO. of ITERATIONS REACHED LIMIT.\n",
      "\n",
      "Increase the number of iterations (max_iter) or scale the data as shown in:\n",
      "    https://scikit-learn.org/stable/modules/preprocessing.html\n",
      "Please also refer to the documentation for alternative solver options:\n",
      "    https://scikit-learn.org/stable/modules/linear_model.html#logistic-regression\n",
      "  n_iter_i = _check_optimize_result(\n"
     ]
    },
    {
     "name": "stdout",
     "output_type": "stream",
     "text": [
      "Fold 2 Accuracy: 0.9125\n",
      "K-FOLD CROSS VALIDATION RESULTS FOR 2 FOLDS\n",
      "--------------------------------\n",
      "Fold 1: 0.9160\n",
      "Fold 2: 0.9125\n",
      "Average: 0.9143\n"
     ]
    }
   ],
   "source": [
    "# Device configuration\n",
    "device = torch.device('cuda' if torch.cuda.is_available() else 'cpu')\n",
    "\n",
    "num_folds = 5\n",
    "\n",
    "softmax_classifier = make_pipeline(\n",
    "    StandardScaler(),\n",
    "    LogisticRegression(multi_class='multinomial', solver='lbfgs', C=1.0, random_state=231, max_iter=400)\n",
    ")\n",
    "\n",
    "# Store the results of each fold\n",
    "results = {}\n",
    "\n",
    "# K-Fold Cross Validation\n",
    "kfold = KFold(n_splits=num_folds, shuffle=True, random_state=231)\n",
    "\n",
    "for fold, (train_indices, val_indices) in enumerate(kfold.split(train), 1):\n",
    "    print(f'Fold {fold}')\n",
    "\n",
    "    # Create data samplers for train and validation sets\n",
    "    train_sampler = SubsetRandomSampler(train_indices)\n",
    "    val_sampler = SubsetRandomSampler(val_indices)\n",
    "\n",
    "    # Create data loaders for train and validation sets\n",
    "    train_loader = DataLoader(train, batch_size=32, sampler=train_sampler)\n",
    "    val_loader = DataLoader(train, batch_size=32, sampler=val_sampler)\n",
    "    \n",
    "    # Extract features for training and validation sets\n",
    "    train_features, train_labels = extract_features(train_loader, model)\n",
    "    val_features, val_labels = extract_features(val_loader, model)\n",
    "\n",
    "    # Train the Softmax classifier\n",
    "    softmax_classifier.fit(train_features, train_labels)\n",
    "    \n",
    "    # Evaluate the classifier on the validation set and extract metrics\n",
    "    val_predictions = softmax_classifier.predict(val_features)\n",
    "    accuracy = accuracy_score(val_labels, val_predictions)\n",
    "    \n",
    "    results[fold] = accuracy\n",
    "    print(f'Fold {fold} Accuracy: {accuracy:.4f}')\n",
    "\n",
    "# Print the average accuracy across all folds\n",
    "average_accuracy = np.mean(list(results.values()))\n",
    "print(f'K-FOLD CROSS VALIDATION RESULTS FOR {num_folds} FOLDS')\n",
    "print('--------------------------------')\n",
    "for fold in results:\n",
    "    print(f'Fold {fold}: {results[fold]:.4f}')\n",
    "print(f'Average: {average_accuracy:.4f}')"
   ]
  },
  {
   "cell_type": "markdown",
   "id": "12377846-c63a-41c8-923d-3902e581801e",
   "metadata": {},
   "source": [
    "## AlexNet + PCA + SVM Classifier Training and Testing\n",
    "As an extension to our SVM implementation, the paper suggests that applying PCA on the resulting features derives higher accuracy before being loaded into the SVM classifier. We implement this approach below, performing k-fold cross-validation testing on the PCA + SVM classifier, which is trained the on features extracted by our AlexNet model."
   ]
  },
  {
   "cell_type": "code",
   "execution_count": 22,
   "id": "ed75428c-079a-45ec-836f-7ef682d91427",
   "metadata": {},
   "outputs": [
    {
     "name": "stdout",
     "output_type": "stream",
     "text": [
      "Fold 1\n",
      "Fold 1 Accuracy: 0.8878\n",
      "Fold 2\n",
      "Fold 2 Accuracy: 0.8823\n",
      "K-FOLD CROSS VALIDATION RESULTS FOR 2 FOLDS\n",
      "--------------------------------\n",
      "Fold 1: 0.8878\n",
      "Fold 2: 0.8823\n",
      "Average: 0.8851\n"
     ]
    }
   ],
   "source": [
    "# Store the results of each fold\n",
    "num_folds = 5\n",
    "kfold = KFold(n_splits=num_folds, shuffle=True, random_state=231)\n",
    "results = {}\n",
    "\n",
    "# Apply PCA to reduce dimensionality\n",
    "n_components = 24  # Set the number of principal components you want to keep\n",
    "pca = PCA(n_components=n_components)\n",
    "\n",
    "# Create the SVM classifier\n",
    "svm_pca_classifier = make_pipeline(StandardScaler(), pca, SVC(kernel='linear'))\n",
    "\n",
    "# K-Fold Cross Validation\n",
    "for fold, (train_indices, val_indices) in enumerate(kfold.split(train), 1):\n",
    "    print(f'Fold {fold}')\n",
    "\n",
    "    # Create data samplers for train and validation sets\n",
    "    train_sampler = SubsetRandomSampler(train_indices)\n",
    "    val_sampler = SubsetRandomSampler(val_indices)\n",
    "\n",
    "    # Create data loaders for train and validation sets\n",
    "    train_loader = DataLoader(train, batch_size=32, sampler=train_sampler)\n",
    "    val_loader = DataLoader(train, batch_size=32, sampler=val_sampler)\n",
    "\n",
    "    # Extract features for training and validation sets\n",
    "    train_features, train_labels = extract_features(train_loader, model)\n",
    "    val_features, val_labels = extract_features(val_loader, model)\n",
    "\n",
    "    # Train the SVM classifier with PCA\n",
    "    svm_pca_classifier.fit(train_features, train_labels)\n",
    "\n",
    "    # Evaluate the classifier on the validation set\n",
    "    val_predictions = svm_pca_classifier.predict(val_features)\n",
    "    accuracy = accuracy_score(val_labels, val_predictions)\n",
    "    results[fold] = accuracy\n",
    "    print(f'Fold {fold} Accuracy: {accuracy:.4f}')\n",
    "\n",
    "# Print the average accuracy across all folds\n",
    "average_accuracy = np.mean(list(results.values()))\n",
    "print(f'K-FOLD CROSS VALIDATION RESULTS FOR {num_folds} FOLDS')\n",
    "print('--------------------------------')\n",
    "for fold in results:\n",
    "    print(f'Fold {fold}: {results[fold]:.4f}')\n",
    "print(f'Average: {average_accuracy:.4f}')"
   ]
  },
  {
   "cell_type": "markdown",
   "id": "329dde2e-bad8-4e08-a89e-e92e765d16b0",
   "metadata": {},
   "source": [
    "### Testing and Metrics\n",
    "\n",
    "Now with our trained models, we will now test with our test set and store metrics for each model. The metrics that we will store are the following:\n",
    "- Accuracy\n",
    "- Precision\n",
    "- Recall\n",
    "- F1\n",
    "\n",
    "The metrics are defined in our paper more clearly, but to calculate these we will calculate the the following values:\n",
    "- True Positive (TP)\n",
    "- False Positive (FP)\n",
    "- True Negative (TN)\n",
    "- False Negative (FN)\n",
    "\n",
    "We calculate these values below:"
   ]
  },
  {
   "cell_type": "code",
   "execution_count": 23,
   "id": "36d36dea-65a1-4a1c-a899-44a76bb9d67e",
   "metadata": {},
   "outputs": [
    {
     "name": "stdout",
     "output_type": "stream",
     "text": [
      "SVM - Accuracy: 0.9230, Precision: 0.9234, Recall: 0.9230, F1 Score: 0.9229\n",
      "Softmax - Accuracy: 0.9183, Precision: 0.9186, Recall: 0.9183, F1 Score: 0.9181\n",
      "SVM+PCA - Accuracy: 0.8797, Precision: 0.8802, Recall: 0.8797, F1 Score: 0.8798\n",
      "Comparison of Classifiers on Test Set:\n",
      "SVM: Accuracy=0.9230, Precision=0.9234, Recall=0.9230, F1 Score=0.9229\n",
      "Softmax: Accuracy=0.9183, Precision=0.9186, Recall=0.9183, F1 Score=0.9181\n",
      "SVM+PCA: Accuracy=0.8797, Precision=0.8802, Recall=0.8797, F1 Score=0.8798\n"
     ]
    }
   ],
   "source": [
    "# Extract Features\n",
    "test_features, test_labels = extract_features(load_test, model)\n",
    "\n",
    "# List of trained classifiers\n",
    "classifiers = {\n",
    "    'SVM': svm_model,   # Assume svm_model is already trained\n",
    "    'Softmax': softmax_classifier,  # Another trained classifier\n",
    "    'SVM+PCA': svm_pca_classifier   # Another trained classifier\n",
    "}\n",
    "\n",
    "# Dictionary to store results\n",
    "results = {clf_name: {} for clf_name in classifiers}\n",
    "\n",
    "# Evaluate each classifier\n",
    "for clf_name, clf in classifiers.items():\n",
    "    # Predict using the classifier\n",
    "    if clf_name == 'bitch':\n",
    "        clf.eval()\n",
    "        with torch.no_grad():\n",
    "            test_features = torch.tensor(test_features, dtype=torch.float32).to(device)\n",
    "            test_outputs = softmax_classifier(test_features)\n",
    "            _, test_predictions = torch.max(test_outputs, 1)\n",
    "    \n",
    "            # Convert back to numpy\n",
    "            test_predictions = test_predictions.cpu().numpy()\n",
    "\n",
    "    else:\n",
    "        test_predictions = clf.predict(test_features)\n",
    "    \n",
    "    # Calculate metrics\n",
    "    accuracy = accuracy_score(test_labels, test_predictions)\n",
    "    precision = precision_score(test_labels, test_predictions, average='weighted')\n",
    "    recall = recall_score(test_labels, test_predictions, average='weighted')\n",
    "    f1 = f1_score(test_labels, test_predictions, average='weighted')\n",
    "    \n",
    "    # Store the results\n",
    "    results[clf_name]['accuracy'] = accuracy\n",
    "    results[clf_name]['precision'] = precision\n",
    "    results[clf_name]['recall'] = recall\n",
    "    results[clf_name]['f1'] = f1\n",
    "\n",
    "    # Print the results\n",
    "    print(f'{clf_name} - Accuracy: {accuracy:.4f}, Precision: {precision:.4f}, Recall: {recall:.4f}, F1 Score: {f1:.4f}')\n",
    "\n",
    "# Print a summary of the results\n",
    "print('Comparison of Classifiers on Test Set:')\n",
    "for clf_name in results:\n",
    "    print(f'{clf_name}: Accuracy={results[clf_name][\"accuracy\"]:.4f}, Precision={results[clf_name][\"precision\"]:.4f}, Recall={results[clf_name][\"recall\"]:.4f}, F1 Score={results[clf_name][\"f1\"]:.4f}')"
   ]
  },
  {
   "cell_type": "code",
   "execution_count": null,
   "id": "1b55df77-efc0-465c-992a-7faf7887b992",
   "metadata": {},
   "outputs": [],
   "source": []
  }
 ],
 "metadata": {
  "kernelspec": {
   "display_name": "Python 3 (ipykernel)",
   "language": "python",
   "name": "python3"
  },
  "language_info": {
   "codemirror_mode": {
    "name": "ipython",
    "version": 3
   },
   "file_extension": ".py",
   "mimetype": "text/x-python",
   "name": "python",
   "nbconvert_exporter": "python",
   "pygments_lexer": "ipython3",
   "version": "3.8.18"
  }
 },
 "nbformat": 4,
 "nbformat_minor": 5
}
