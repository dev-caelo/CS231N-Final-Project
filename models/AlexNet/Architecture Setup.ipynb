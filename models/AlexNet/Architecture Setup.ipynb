{
 "cells": [
  {
   "cell_type": "markdown",
   "id": "83f9d119-1c9c-4d1b-923b-e6bd49f45b5f",
   "metadata": {},
   "source": [
    "Hello! Welcome to the architecture setup notebook, where we will be installing all requirements and outline the basic architecture of our AlexNet model (whose performance will be compared to our custom model, EfficentNet, and ConvNeXt)"
   ]
  },
  {
   "cell_type": "code",
   "execution_count": 4,
   "id": "d1e7b0f3-17de-4abc-bdd0-ea94640db448",
   "metadata": {},
   "outputs": [
    {
     "name": "stdout",
     "output_type": "stream",
     "text": [
      "Requirement already satisfied: numpy in /Users/nicolegarcia/miniconda3/lib/python3.8/site-packages (from -r ../../requirements.txt (line 1)) (1.24.4)\n",
      "Collecting transformers\n",
      "  Using cached transformers-4.41.1-py3-none-any.whl (9.1 MB)\n",
      "Requirement already satisfied: matplotlib in /Users/nicolegarcia/miniconda3/lib/python3.8/site-packages (from -r ../../requirements.txt (line 3)) (3.7.2)\n",
      "Collecting pytorch\n",
      "  Using cached pytorch-1.0.2.tar.gz (689 bytes)\n",
      "  Preparing metadata (setup.py) ... \u001b[?25ldone\n",
      "\u001b[?25hRequirement already satisfied: kaggle in /Users/nicolegarcia/miniconda3/lib/python3.8/site-packages (from -r ../../requirements.txt (line 5)) (1.6.14)\n",
      "Collecting safetensors>=0.4.1\n",
      "  Using cached safetensors-0.4.3-cp38-cp38-macosx_10_12_x86_64.whl (416 kB)\n",
      "Requirement already satisfied: tqdm>=4.27 in /Users/nicolegarcia/miniconda3/lib/python3.8/site-packages (from transformers->-r ../../requirements.txt (line 2)) (4.65.0)\n",
      "Requirement already satisfied: requests in /Users/nicolegarcia/miniconda3/lib/python3.8/site-packages (from transformers->-r ../../requirements.txt (line 2)) (2.31.0)\n",
      "Requirement already satisfied: pyyaml>=5.1 in /Users/nicolegarcia/miniconda3/lib/python3.8/site-packages (from transformers->-r ../../requirements.txt (line 2)) (6.0.1)\n",
      "Collecting huggingface-hub<1.0,>=0.23.0\n",
      "  Using cached huggingface_hub-0.23.2-py3-none-any.whl (401 kB)\n",
      "Requirement already satisfied: filelock in /Users/nicolegarcia/miniconda3/lib/python3.8/site-packages (from transformers->-r ../../requirements.txt (line 2)) (3.13.1)\n",
      "Collecting regex!=2019.12.17\n",
      "  Using cached regex-2024.5.15-cp38-cp38-macosx_10_9_x86_64.whl (281 kB)\n",
      "Collecting tokenizers<0.20,>=0.19\n",
      "  Using cached tokenizers-0.19.1-cp38-cp38-macosx_10_12_x86_64.whl (2.5 MB)\n",
      "Requirement already satisfied: packaging>=20.0 in /Users/nicolegarcia/miniconda3/lib/python3.8/site-packages (from transformers->-r ../../requirements.txt (line 2)) (23.2)\n",
      "Requirement already satisfied: importlib-resources>=3.2.0 in /Users/nicolegarcia/miniconda3/lib/python3.8/site-packages (from matplotlib->-r ../../requirements.txt (line 3)) (6.1.1)\n",
      "Requirement already satisfied: python-dateutil>=2.7 in /Users/nicolegarcia/miniconda3/lib/python3.8/site-packages (from matplotlib->-r ../../requirements.txt (line 3)) (2.8.2)\n",
      "Requirement already satisfied: kiwisolver>=1.0.1 in /Users/nicolegarcia/miniconda3/lib/python3.8/site-packages (from matplotlib->-r ../../requirements.txt (line 3)) (1.4.4)\n",
      "Requirement already satisfied: pyparsing<3.1,>=2.3.1 in /Users/nicolegarcia/miniconda3/lib/python3.8/site-packages (from matplotlib->-r ../../requirements.txt (line 3)) (3.0.9)\n",
      "Requirement already satisfied: contourpy>=1.0.1 in /Users/nicolegarcia/miniconda3/lib/python3.8/site-packages (from matplotlib->-r ../../requirements.txt (line 3)) (1.0.5)\n",
      "Requirement already satisfied: fonttools>=4.22.0 in /Users/nicolegarcia/miniconda3/lib/python3.8/site-packages (from matplotlib->-r ../../requirements.txt (line 3)) (4.25.0)\n",
      "Requirement already satisfied: pillow>=6.2.0 in /Users/nicolegarcia/miniconda3/lib/python3.8/site-packages (from matplotlib->-r ../../requirements.txt (line 3)) (10.0.1)\n",
      "Requirement already satisfied: cycler>=0.10 in /Users/nicolegarcia/miniconda3/lib/python3.8/site-packages (from matplotlib->-r ../../requirements.txt (line 3)) (0.11.0)\n",
      "Requirement already satisfied: certifi>=2023.7.22 in /Users/nicolegarcia/miniconda3/lib/python3.8/site-packages (from kaggle->-r ../../requirements.txt (line 5)) (2024.2.2)\n",
      "Requirement already satisfied: six>=1.10 in /Users/nicolegarcia/miniconda3/lib/python3.8/site-packages (from kaggle->-r ../../requirements.txt (line 5)) (1.16.0)\n",
      "Requirement already satisfied: python-slugify in /Users/nicolegarcia/miniconda3/lib/python3.8/site-packages (from kaggle->-r ../../requirements.txt (line 5)) (8.0.4)\n",
      "Requirement already satisfied: urllib3 in /Users/nicolegarcia/miniconda3/lib/python3.8/site-packages (from kaggle->-r ../../requirements.txt (line 5)) (1.26.18)\n",
      "Requirement already satisfied: bleach in /Users/nicolegarcia/miniconda3/lib/python3.8/site-packages (from kaggle->-r ../../requirements.txt (line 5)) (6.1.0)\n",
      "Collecting fsspec>=2023.5.0\n",
      "  Using cached fsspec-2024.5.0-py3-none-any.whl (316 kB)\n",
      "Requirement already satisfied: typing-extensions>=3.7.4.3 in /Users/nicolegarcia/miniconda3/lib/python3.8/site-packages (from huggingface-hub<1.0,>=0.23.0->transformers->-r ../../requirements.txt (line 2)) (4.9.0)\n",
      "Requirement already satisfied: zipp>=3.1.0 in /Users/nicolegarcia/miniconda3/lib/python3.8/site-packages (from importlib-resources>=3.2.0->matplotlib->-r ../../requirements.txt (line 3)) (3.17.0)\n",
      "Requirement already satisfied: webencodings in /Users/nicolegarcia/miniconda3/lib/python3.8/site-packages (from bleach->kaggle->-r ../../requirements.txt (line 5)) (0.5.1)\n",
      "Requirement already satisfied: text-unidecode>=1.3 in /Users/nicolegarcia/miniconda3/lib/python3.8/site-packages (from python-slugify->kaggle->-r ../../requirements.txt (line 5)) (1.3)\n",
      "Requirement already satisfied: idna<4,>=2.5 in /Users/nicolegarcia/miniconda3/lib/python3.8/site-packages (from requests->transformers->-r ../../requirements.txt (line 2)) (3.4)\n",
      "Requirement already satisfied: charset-normalizer<4,>=2 in /Users/nicolegarcia/miniconda3/lib/python3.8/site-packages (from requests->transformers->-r ../../requirements.txt (line 2)) (2.0.4)\n",
      "Building wheels for collected packages: pytorch\n",
      "  Building wheel for pytorch (setup.py) ... \u001b[?25lerror\n",
      "  \u001b[1;31merror\u001b[0m: \u001b[1msubprocess-exited-with-error\u001b[0m\n",
      "  \n",
      "  \u001b[31m×\u001b[0m \u001b[32mpython setup.py bdist_wheel\u001b[0m did not run successfully.\n",
      "  \u001b[31m│\u001b[0m exit code: \u001b[1;36m1\u001b[0m\n",
      "  \u001b[31m╰─>\u001b[0m \u001b[31m[6 lines of output]\u001b[0m\n",
      "  \u001b[31m   \u001b[0m Traceback (most recent call last):\n",
      "  \u001b[31m   \u001b[0m   File \"<string>\", line 2, in <module>\n",
      "  \u001b[31m   \u001b[0m   File \"<pip-setuptools-caller>\", line 34, in <module>\n",
      "  \u001b[31m   \u001b[0m   File \"/private/var/folders/yc/ny9lv56511v2xt4zchwcwylc0000gn/T/pip-install-2szq7s7r/pytorch_e206d26c7e4140cd97c1547da7a91dec/setup.py\", line 15, in <module>\n",
      "  \u001b[31m   \u001b[0m     raise Exception(message)\n",
      "  \u001b[31m   \u001b[0m Exception: You tried to install \"pytorch\". The package named for PyTorch is \"torch\"\n",
      "  \u001b[31m   \u001b[0m \u001b[31m[end of output]\u001b[0m\n",
      "  \n",
      "  \u001b[1;35mnote\u001b[0m: This error originates from a subprocess, and is likely not a problem with pip.\n",
      "\u001b[31m  ERROR: Failed building wheel for pytorch\u001b[0m\u001b[31m\n",
      "\u001b[0m\u001b[?25h  Running setup.py clean for pytorch\n",
      "Failed to build pytorch\n",
      "Installing collected packages: pytorch, safetensors, regex, fsspec, huggingface-hub, tokenizers, transformers\n",
      "  Running setup.py install for pytorch ... \u001b[?25lerror\n",
      "  \u001b[1;31merror\u001b[0m: \u001b[1msubprocess-exited-with-error\u001b[0m\n",
      "  \n",
      "  \u001b[31m×\u001b[0m \u001b[32mRunning setup.py install for pytorch\u001b[0m did not run successfully.\n",
      "  \u001b[31m│\u001b[0m exit code: \u001b[1;36m1\u001b[0m\n",
      "  \u001b[31m╰─>\u001b[0m \u001b[31m[6 lines of output]\u001b[0m\n",
      "  \u001b[31m   \u001b[0m Traceback (most recent call last):\n",
      "  \u001b[31m   \u001b[0m   File \"<string>\", line 2, in <module>\n",
      "  \u001b[31m   \u001b[0m   File \"<pip-setuptools-caller>\", line 34, in <module>\n",
      "  \u001b[31m   \u001b[0m   File \"/private/var/folders/yc/ny9lv56511v2xt4zchwcwylc0000gn/T/pip-install-2szq7s7r/pytorch_e206d26c7e4140cd97c1547da7a91dec/setup.py\", line 11, in <module>\n",
      "  \u001b[31m   \u001b[0m     raise Exception(message)\n",
      "  \u001b[31m   \u001b[0m Exception: You tried to install \"pytorch\". The package named for PyTorch is \"torch\"\n",
      "  \u001b[31m   \u001b[0m \u001b[31m[end of output]\u001b[0m\n",
      "  \n",
      "  \u001b[1;35mnote\u001b[0m: This error originates from a subprocess, and is likely not a problem with pip.\n",
      "\u001b[1;31merror\u001b[0m: \u001b[1mlegacy-install-failure\u001b[0m\n",
      "\n",
      "\u001b[31m×\u001b[0m Encountered error while trying to install package.\n",
      "\u001b[31m╰─>\u001b[0m pytorch\n",
      "\n",
      "\u001b[1;35mnote\u001b[0m: This is an issue with the package mentioned above, not pip.\n",
      "\u001b[1;36mhint\u001b[0m: See above for output from the failure.\n",
      "\u001b[?25h"
     ]
    }
   ],
   "source": [
    "!pip3 install -r ../../requirements.txt"
   ]
  },
  {
   "cell_type": "code",
   "execution_count": null,
   "id": "3bf96ccc-e22b-426f-9320-d67028965763",
   "metadata": {},
   "outputs": [],
   "source": []
  },
  {
   "cell_type": "code",
   "execution_count": null,
   "id": "b2180e0c-659a-4877-a461-0661a0005f65",
   "metadata": {},
   "outputs": [],
   "source": []
  }
 ],
 "metadata": {
  "kernelspec": {
   "display_name": "Python 3 (ipykernel)",
   "language": "python",
   "name": "python3"
  },
  "language_info": {
   "codemirror_mode": {
    "name": "ipython",
    "version": 3
   },
   "file_extension": ".py",
   "mimetype": "text/x-python",
   "name": "python",
   "nbconvert_exporter": "python",
   "pygments_lexer": "ipython3",
   "version": "3.8.18"
  }
 },
 "nbformat": 4,
 "nbformat_minor": 5
}
