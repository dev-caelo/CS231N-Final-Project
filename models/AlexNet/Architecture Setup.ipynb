{
 "cells": [
  {
   "cell_type": "markdown",
   "id": "83f9d119-1c9c-4d1b-923b-e6bd49f45b5f",
   "metadata": {},
   "source": [
    "## Overview\n",
    "\n",
    "Hello! Welcome to the architecture setup notebook, where we will be installing all requirements and outline the basic architecture of our AlexNet model (whose performance will be compared to our custom model, EfficentNet, and ConvNeXt). \n",
    "\n",
    "\n",
    "The cell below handles our initial requirements installation:"
   ]
  },
  {
   "cell_type": "code",
   "execution_count": 1,
   "id": "d1e7b0f3-17de-4abc-bdd0-ea94640db448",
   "metadata": {},
   "outputs": [
    {
     "name": "stdout",
     "output_type": "stream",
     "text": [
      "Requirement already satisfied: numpy in /Users/nicolegarcia/miniconda3/lib/python3.8/site-packages (from -r ../../requirements.txt (line 1)) (1.24.4)\n",
      "Collecting transformers\n",
      "  Using cached transformers-4.41.1-py3-none-any.whl (9.1 MB)\n",
      "Requirement already satisfied: matplotlib in /Users/nicolegarcia/miniconda3/lib/python3.8/site-packages (from -r ../../requirements.txt (line 3)) (3.7.2)\n",
      "Requirement already satisfied: torch in /Users/nicolegarcia/miniconda3/lib/python3.8/site-packages (from -r ../../requirements.txt (line 4)) (2.2.0)\n",
      "Requirement already satisfied: kaggle in /Users/nicolegarcia/miniconda3/lib/python3.8/site-packages (from -r ../../requirements.txt (line 5)) (1.6.14)\n",
      "Requirement already satisfied: pyyaml>=5.1 in /Users/nicolegarcia/miniconda3/lib/python3.8/site-packages (from transformers->-r ../../requirements.txt (line 2)) (6.0.1)\n",
      "Collecting safetensors>=0.4.1\n",
      "  Using cached safetensors-0.4.3-cp38-cp38-macosx_10_12_x86_64.whl (416 kB)\n",
      "Requirement already satisfied: packaging>=20.0 in /Users/nicolegarcia/miniconda3/lib/python3.8/site-packages (from transformers->-r ../../requirements.txt (line 2)) (23.2)\n",
      "Requirement already satisfied: requests in /Users/nicolegarcia/miniconda3/lib/python3.8/site-packages (from transformers->-r ../../requirements.txt (line 2)) (2.31.0)\n",
      "Collecting regex!=2019.12.17\n",
      "  Using cached regex-2024.5.15-cp38-cp38-macosx_10_9_x86_64.whl (281 kB)\n",
      "Requirement already satisfied: tqdm>=4.27 in /Users/nicolegarcia/miniconda3/lib/python3.8/site-packages (from transformers->-r ../../requirements.txt (line 2)) (4.65.0)\n",
      "Collecting tokenizers<0.20,>=0.19\n",
      "  Using cached tokenizers-0.19.1-cp38-cp38-macosx_10_12_x86_64.whl (2.5 MB)\n",
      "Collecting huggingface-hub<1.0,>=0.23.0\n",
      "  Using cached huggingface_hub-0.23.2-py3-none-any.whl (401 kB)\n",
      "Requirement already satisfied: filelock in /Users/nicolegarcia/miniconda3/lib/python3.8/site-packages (from transformers->-r ../../requirements.txt (line 2)) (3.13.1)\n",
      "Requirement already satisfied: cycler>=0.10 in /Users/nicolegarcia/miniconda3/lib/python3.8/site-packages (from matplotlib->-r ../../requirements.txt (line 3)) (0.11.0)\n",
      "Requirement already satisfied: contourpy>=1.0.1 in /Users/nicolegarcia/miniconda3/lib/python3.8/site-packages (from matplotlib->-r ../../requirements.txt (line 3)) (1.0.5)\n",
      "Requirement already satisfied: fonttools>=4.22.0 in /Users/nicolegarcia/miniconda3/lib/python3.8/site-packages (from matplotlib->-r ../../requirements.txt (line 3)) (4.25.0)\n",
      "Requirement already satisfied: importlib-resources>=3.2.0 in /Users/nicolegarcia/miniconda3/lib/python3.8/site-packages (from matplotlib->-r ../../requirements.txt (line 3)) (6.1.1)\n",
      "Requirement already satisfied: pyparsing<3.1,>=2.3.1 in /Users/nicolegarcia/miniconda3/lib/python3.8/site-packages (from matplotlib->-r ../../requirements.txt (line 3)) (3.0.9)\n",
      "Requirement already satisfied: python-dateutil>=2.7 in /Users/nicolegarcia/miniconda3/lib/python3.8/site-packages (from matplotlib->-r ../../requirements.txt (line 3)) (2.8.2)\n",
      "Requirement already satisfied: kiwisolver>=1.0.1 in /Users/nicolegarcia/miniconda3/lib/python3.8/site-packages (from matplotlib->-r ../../requirements.txt (line 3)) (1.4.4)\n",
      "Requirement already satisfied: pillow>=6.2.0 in /Users/nicolegarcia/miniconda3/lib/python3.8/site-packages (from matplotlib->-r ../../requirements.txt (line 3)) (10.0.1)\n",
      "Requirement already satisfied: typing-extensions>=4.8.0 in /Users/nicolegarcia/miniconda3/lib/python3.8/site-packages (from torch->-r ../../requirements.txt (line 4)) (4.9.0)\n",
      "Requirement already satisfied: sympy in /Users/nicolegarcia/miniconda3/lib/python3.8/site-packages (from torch->-r ../../requirements.txt (line 4)) (1.12)\n",
      "Requirement already satisfied: networkx in /Users/nicolegarcia/miniconda3/lib/python3.8/site-packages (from torch->-r ../../requirements.txt (line 4)) (3.1)\n",
      "Requirement already satisfied: jinja2 in /Users/nicolegarcia/miniconda3/lib/python3.8/site-packages (from torch->-r ../../requirements.txt (line 4)) (3.1.3)\n",
      "Collecting fsspec\n",
      "  Using cached fsspec-2024.5.0-py3-none-any.whl (316 kB)\n",
      "Requirement already satisfied: bleach in /Users/nicolegarcia/miniconda3/lib/python3.8/site-packages (from kaggle->-r ../../requirements.txt (line 5)) (6.1.0)\n",
      "Requirement already satisfied: six>=1.10 in /Users/nicolegarcia/miniconda3/lib/python3.8/site-packages (from kaggle->-r ../../requirements.txt (line 5)) (1.16.0)\n",
      "Requirement already satisfied: certifi>=2023.7.22 in /Users/nicolegarcia/miniconda3/lib/python3.8/site-packages (from kaggle->-r ../../requirements.txt (line 5)) (2024.2.2)\n",
      "Requirement already satisfied: python-slugify in /Users/nicolegarcia/miniconda3/lib/python3.8/site-packages (from kaggle->-r ../../requirements.txt (line 5)) (8.0.4)\n",
      "Requirement already satisfied: urllib3 in /Users/nicolegarcia/miniconda3/lib/python3.8/site-packages (from kaggle->-r ../../requirements.txt (line 5)) (1.26.18)\n",
      "Requirement already satisfied: zipp>=3.1.0 in /Users/nicolegarcia/miniconda3/lib/python3.8/site-packages (from importlib-resources>=3.2.0->matplotlib->-r ../../requirements.txt (line 3)) (3.17.0)\n",
      "Requirement already satisfied: webencodings in /Users/nicolegarcia/miniconda3/lib/python3.8/site-packages (from bleach->kaggle->-r ../../requirements.txt (line 5)) (0.5.1)\n",
      "Requirement already satisfied: MarkupSafe>=2.0 in /Users/nicolegarcia/miniconda3/lib/python3.8/site-packages (from jinja2->torch->-r ../../requirements.txt (line 4)) (2.1.3)\n",
      "Requirement already satisfied: text-unidecode>=1.3 in /Users/nicolegarcia/miniconda3/lib/python3.8/site-packages (from python-slugify->kaggle->-r ../../requirements.txt (line 5)) (1.3)\n",
      "Requirement already satisfied: charset-normalizer<4,>=2 in /Users/nicolegarcia/miniconda3/lib/python3.8/site-packages (from requests->transformers->-r ../../requirements.txt (line 2)) (2.0.4)\n",
      "Requirement already satisfied: idna<4,>=2.5 in /Users/nicolegarcia/miniconda3/lib/python3.8/site-packages (from requests->transformers->-r ../../requirements.txt (line 2)) (3.4)\n",
      "Requirement already satisfied: mpmath>=0.19 in /Users/nicolegarcia/miniconda3/lib/python3.8/site-packages (from sympy->torch->-r ../../requirements.txt (line 4)) (1.3.0)\n",
      "Installing collected packages: safetensors, regex, fsspec, huggingface-hub, tokenizers, transformers\n",
      "Successfully installed fsspec-2024.5.0 huggingface-hub-0.23.2 regex-2024.5.15 safetensors-0.4.3 tokenizers-0.19.1 transformers-4.41.1\n"
     ]
    }
   ],
   "source": [
    "!pip3 install -r ../../requirements.txt"
   ]
  },
  {
   "cell_type": "markdown",
   "id": "28d52aad-b30b-493d-ba92-5037af2e7f0a",
   "metadata": {},
   "source": [
    "## Data Preprocessing\n",
    "\n",
    "As part of our data preprocessing, we will split the down-scaled lung dataset from the original dataset into a train/test split. \n",
    "\n",
    "Note that we will be using five-fold cross-validation for testing later, hence we will not be partioning an additional validation set. \n",
    "\n",
    "After splitting our data, we will then feed the training set into our models. Here, we will specifically feed it into the AlexNet model. "
   ]
  },
  {
   "cell_type": "code",
   "execution_count": null,
   "id": "bf5eb6da-8330-44ec-96d5-ead70efe5b19",
   "metadata": {},
   "outputs": [],
   "source": [
    "# Initialize AlexNet Model (Pending)\n",
    "model = models.alexnet(pretrained=True)\n",
    "model = model.to(device)"
   ]
  },
  {
   "cell_type": "code",
   "execution_count": null,
   "id": "b2180e0c-659a-4877-a461-0661a0005f65",
   "metadata": {},
   "outputs": [],
   "source": [
    "# Implement five-fold cross validation (Pending)\n",
    "num_folds = 5\n",
    "k_choices = [1, 3, 5, 8, 10, 12, 15, 20, 50, 100]\n",
    "\n",
    "X_train_folds = []\n",
    "y_train_folds = []\n",
    "################################################################################\n",
    "# Split up the training data into folds. After splitting, X_train_folds and    #\n",
    "# y_train_folds should each be lists of length num_folds, where                #\n",
    "# y_train_folds[i] is the label vector for the points in X_train_folds[i].     #\n",
    "# Hint: Look up the numpy array_split function.                                #\n",
    "################################################################################\n",
    "# *****START OF YOUR CODE (DO NOT DELETE/MODIFY THIS LINE)*****\n",
    "\n",
    "X_train_folds = np.array_split(X_train, num_folds)\n",
    "Y_train_folds = np.array_split(y_train, num_folds)\n",
    "\n",
    "# *****END OF YOUR CODE (DO NOT DELETE/MODIFY THIS LINE)*****\n",
    "\n",
    "# A dictionary holding the accuracies for different values of k that we find\n",
    "# when running cross-validation. After running cross-validation,\n",
    "# k_to_accuracies[k] should be a list of length num_folds giving the different\n",
    "# accuracy values that we found when using that value of k.\n",
    "k_to_accuracies = {}\n",
    "\n",
    "\n",
    "################################################################################\n",
    "# Perform k-fold cross validation to find the best value of k. For each        #\n",
    "# possible value of k, run the k-nearest-neighbor algorithm num_folds times,   #\n",
    "# where in each case you use all but one of the folds as training data and the #\n",
    "# last fold as a validation set. Store the accuracies for all fold and all     #\n",
    "# values of k in the k_to_accuracies dictionary.                               #\n",
    "################################################################################\n",
    "# *****START OF YOUR CODE (DO NOT DELETE/MODIFY THIS LINE)*****\n",
    "\n",
    "for k in k_choices:\n",
    "\n",
    "  k_to_accuracies[k] = []\n",
    "\n",
    "  for i in range(num_folds):\n",
    "    # Generate validation set\n",
    "    validation_set = (X_train_folds[i], Y_train_folds[i])\n",
    "\n",
    "    # Generate training set\n",
    "    x_training = np.concatenate([X_train_folds[j] for j in range(num_folds) if j != i])\n",
    "    y_training = np.concatenate([Y_train_folds[j] for j in range(num_folds) if j != i])\n",
    "\n",
    "    # Train the classifier\n",
    "    classifier.train(x_training, y_training)\n",
    "\n",
    "    # Test classifier and save accuracy\n",
    "    predictions = classifier.predict(X=validation_set[0], k=k)\n",
    "    accuracy = np.sum(predictions == validation_set[1]) / len(predictions)\n",
    "    k_to_accuracies[k].append(accuracy)\n",
    "\n",
    "# *****END OF YOUR CODE (DO NOT DELETE/MODIFY THIS LINE)*****\n",
    "\n",
    "# Print out the computed accuracies\n",
    "for k in sorted(k_to_accuracies):\n",
    "    for accuracy in k_to_accuracies[k]:\n",
    "        print('k = %d, accuracy = %f' % (k, accuracy))"
   ]
  }
 ],
 "metadata": {
  "kernelspec": {
   "display_name": "Python 3 (ipykernel)",
   "language": "python",
   "name": "python3"
  },
  "language_info": {
   "codemirror_mode": {
    "name": "ipython",
    "version": 3
   },
   "file_extension": ".py",
   "mimetype": "text/x-python",
   "name": "python",
   "nbconvert_exporter": "python",
   "pygments_lexer": "ipython3",
   "version": "3.8.18"
  }
 },
 "nbformat": 4,
 "nbformat_minor": 5
}
