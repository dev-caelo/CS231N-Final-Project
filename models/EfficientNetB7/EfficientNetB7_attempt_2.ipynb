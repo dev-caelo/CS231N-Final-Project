{
 "cells": [
  {
   "cell_type": "markdown",
   "id": "bc2d9db9-04e0-473f-8f8a-ea151c989887",
   "metadata": {},
   "source": [
    "# im sorry we try again\n",
    "\n",
    "## pip3 requirements magic"
   ]
  },
  {
   "cell_type": "code",
   "execution_count": 3,
   "id": "9de05800-137e-4592-952c-c8a5da9bc078",
   "metadata": {},
   "outputs": [
    {
     "name": "stdout",
     "output_type": "stream",
     "text": [
      "Requirement already satisfied: numpy in /Users/DaisyWang/Desktop/Work/Cremer/ls/lib/python3.10/site-packages (from -r ../../requirements.txt (line 1)) (1.23.5)\n",
      "Requirement already satisfied: transformers in /Users/DaisyWang/Desktop/Work/Cremer/ls/lib/python3.10/site-packages (from -r ../../requirements.txt (line 2)) (4.41.2)\n",
      "Requirement already satisfied: matplotlib in /Users/DaisyWang/Desktop/Work/Cremer/ls/lib/python3.10/site-packages (from -r ../../requirements.txt (line 3)) (3.7.1)\n",
      "Requirement already satisfied: torch in /Users/DaisyWang/Desktop/Work/Cremer/ls/lib/python3.10/site-packages (from -r ../../requirements.txt (line 4)) (2.3.0)\n",
      "Requirement already satisfied: torchvision in /Users/DaisyWang/Desktop/Work/Cremer/ls/lib/python3.10/site-packages (from -r ../../requirements.txt (line 5)) (0.18.0)\n",
      "Requirement already satisfied: kaggle in /Users/DaisyWang/Desktop/Work/Cremer/ls/lib/python3.10/site-packages (from -r ../../requirements.txt (line 6)) (1.6.14)\n",
      "Requirement already satisfied: scikit-learn in /Users/DaisyWang/Desktop/Work/Cremer/ls/lib/python3.10/site-packages (from -r ../../requirements.txt (line 7)) (1.5.0)\n",
      "Requirement already satisfied: tensorflow in /Users/DaisyWang/Desktop/Work/Cremer/ls/lib/python3.10/site-packages (from -r ../../requirements.txt (line 8)) (2.16.1)\n",
      "Requirement already satisfied: keras in /Users/DaisyWang/Desktop/Work/Cremer/ls/lib/python3.10/site-packages (from -r ../../requirements.txt (line 9)) (3.3.3)\n",
      "Requirement already satisfied: seaborn in /Users/DaisyWang/Desktop/Work/Cremer/ls/lib/python3.10/site-packages (from -r ../../requirements.txt (line 10)) (0.13.2)\n",
      "Requirement already satisfied: pandas in /Users/DaisyWang/Desktop/Work/Cremer/ls/lib/python3.10/site-packages (from -r ../../requirements.txt (line 11)) (2.2.2)\n",
      "Requirement already satisfied: opencv-python in /Users/DaisyWang/Desktop/Work/Cremer/ls/lib/python3.10/site-packages (from -r ../../requirements.txt (line 13)) (4.9.0.80)\n",
      "Requirement already satisfied: huggingface-hub<1.0,>=0.23.0 in /Users/DaisyWang/Desktop/Work/Cremer/ls/lib/python3.10/site-packages (from transformers->-r ../../requirements.txt (line 2)) (0.23.2)\n",
      "Requirement already satisfied: packaging>=20.0 in /Users/DaisyWang/Desktop/Work/Cremer/ls/lib/python3.10/site-packages (from transformers->-r ../../requirements.txt (line 2)) (23.0)\n",
      "Requirement already satisfied: tokenizers<0.20,>=0.19 in /Users/DaisyWang/Desktop/Work/Cremer/ls/lib/python3.10/site-packages (from transformers->-r ../../requirements.txt (line 2)) (0.19.1)\n",
      "Requirement already satisfied: pyyaml>=5.1 in /Users/DaisyWang/Desktop/Work/Cremer/ls/lib/python3.10/site-packages (from transformers->-r ../../requirements.txt (line 2)) (6.0.1)\n",
      "Requirement already satisfied: regex!=2019.12.17 in /Users/DaisyWang/Desktop/Work/Cremer/ls/lib/python3.10/site-packages (from transformers->-r ../../requirements.txt (line 2)) (2024.5.15)\n",
      "Requirement already satisfied: tqdm>=4.27 in /Users/DaisyWang/Desktop/Work/Cremer/ls/lib/python3.10/site-packages (from transformers->-r ../../requirements.txt (line 2)) (4.65.0)\n",
      "Requirement already satisfied: safetensors>=0.4.1 in /Users/DaisyWang/Desktop/Work/Cremer/ls/lib/python3.10/site-packages (from transformers->-r ../../requirements.txt (line 2)) (0.4.3)\n",
      "Requirement already satisfied: filelock in /Users/DaisyWang/Desktop/Work/Cremer/ls/lib/python3.10/site-packages (from transformers->-r ../../requirements.txt (line 2)) (3.14.0)\n",
      "Requirement already satisfied: requests in /Users/DaisyWang/Desktop/Work/Cremer/ls/lib/python3.10/site-packages (from transformers->-r ../../requirements.txt (line 2)) (2.32.3)\n",
      "Requirement already satisfied: pillow>=6.2.0 in /Users/DaisyWang/Desktop/Work/Cremer/ls/lib/python3.10/site-packages (from matplotlib->-r ../../requirements.txt (line 3)) (9.4.0)\n",
      "Requirement already satisfied: contourpy>=1.0.1 in /Users/DaisyWang/Desktop/Work/Cremer/ls/lib/python3.10/site-packages (from matplotlib->-r ../../requirements.txt (line 3)) (1.0.5)\n",
      "Requirement already satisfied: cycler>=0.10 in /Users/DaisyWang/Desktop/Work/Cremer/ls/lib/python3.10/site-packages (from matplotlib->-r ../../requirements.txt (line 3)) (0.11.0)\n",
      "Requirement already satisfied: python-dateutil>=2.7 in /Users/DaisyWang/Desktop/Work/Cremer/ls/lib/python3.10/site-packages (from matplotlib->-r ../../requirements.txt (line 3)) (2.8.2)\n",
      "Requirement already satisfied: pyparsing>=2.3.1 in /Users/DaisyWang/Desktop/Work/Cremer/ls/lib/python3.10/site-packages (from matplotlib->-r ../../requirements.txt (line 3)) (3.0.9)\n",
      "Requirement already satisfied: kiwisolver>=1.0.1 in /Users/DaisyWang/Desktop/Work/Cremer/ls/lib/python3.10/site-packages (from matplotlib->-r ../../requirements.txt (line 3)) (1.4.4)\n",
      "Requirement already satisfied: fonttools>=4.22.0 in /Users/DaisyWang/Desktop/Work/Cremer/ls/lib/python3.10/site-packages (from matplotlib->-r ../../requirements.txt (line 3)) (4.25.0)\n",
      "Requirement already satisfied: typing-extensions>=4.8.0 in /Users/DaisyWang/Desktop/Work/Cremer/ls/lib/python3.10/site-packages (from torch->-r ../../requirements.txt (line 4)) (4.12.0)\n",
      "Requirement already satisfied: fsspec in /Users/DaisyWang/Desktop/Work/Cremer/ls/lib/python3.10/site-packages (from torch->-r ../../requirements.txt (line 4)) (2024.5.0)\n",
      "Requirement already satisfied: jinja2 in /Users/DaisyWang/Desktop/Work/Cremer/ls/lib/python3.10/site-packages (from torch->-r ../../requirements.txt (line 4)) (3.1.2)\n",
      "Requirement already satisfied: sympy in /Users/DaisyWang/Desktop/Work/Cremer/ls/lib/python3.10/site-packages (from torch->-r ../../requirements.txt (line 4)) (1.12.1)\n",
      "Requirement already satisfied: networkx in /Users/DaisyWang/Desktop/Work/Cremer/ls/lib/python3.10/site-packages (from torch->-r ../../requirements.txt (line 4)) (3.3)\n",
      "Requirement already satisfied: bleach in /Users/DaisyWang/Desktop/Work/Cremer/ls/lib/python3.10/site-packages (from kaggle->-r ../../requirements.txt (line 6)) (6.1.0)\n",
      "Requirement already satisfied: six>=1.10 in /Users/DaisyWang/Desktop/Work/Cremer/ls/lib/python3.10/site-packages (from kaggle->-r ../../requirements.txt (line 6)) (1.16.0)\n",
      "Requirement already satisfied: urllib3 in /Users/DaisyWang/Desktop/Work/Cremer/ls/lib/python3.10/site-packages (from kaggle->-r ../../requirements.txt (line 6)) (1.26.16)\n",
      "Requirement already satisfied: python-slugify in /Users/DaisyWang/Desktop/Work/Cremer/ls/lib/python3.10/site-packages (from kaggle->-r ../../requirements.txt (line 6)) (8.0.4)\n",
      "Requirement already satisfied: certifi>=2023.7.22 in /Users/DaisyWang/Desktop/Work/Cremer/ls/lib/python3.10/site-packages (from kaggle->-r ../../requirements.txt (line 6)) (2024.2.2)\n",
      "Requirement already satisfied: threadpoolctl>=3.1.0 in /Users/DaisyWang/Desktop/Work/Cremer/ls/lib/python3.10/site-packages (from scikit-learn->-r ../../requirements.txt (line 7)) (3.5.0)\n",
      "Requirement already satisfied: scipy>=1.6.0 in /Users/DaisyWang/Desktop/Work/Cremer/ls/lib/python3.10/site-packages (from scikit-learn->-r ../../requirements.txt (line 7)) (1.13.1)\n",
      "Requirement already satisfied: joblib>=1.2.0 in /Users/DaisyWang/Desktop/Work/Cremer/ls/lib/python3.10/site-packages (from scikit-learn->-r ../../requirements.txt (line 7)) (1.4.2)\n",
      "Requirement already satisfied: flatbuffers>=23.5.26 in /Users/DaisyWang/Desktop/Work/Cremer/ls/lib/python3.10/site-packages (from tensorflow->-r ../../requirements.txt (line 8)) (24.3.25)\n",
      "Requirement already satisfied: ml-dtypes~=0.3.1 in /Users/DaisyWang/Desktop/Work/Cremer/ls/lib/python3.10/site-packages (from tensorflow->-r ../../requirements.txt (line 8)) (0.3.2)\n",
      "Requirement already satisfied: tensorflow-io-gcs-filesystem>=0.23.1 in /Users/DaisyWang/Desktop/Work/Cremer/ls/lib/python3.10/site-packages (from tensorflow->-r ../../requirements.txt (line 8)) (0.37.0)\n",
      "Requirement already satisfied: grpcio<2.0,>=1.24.3 in /Users/DaisyWang/Desktop/Work/Cremer/ls/lib/python3.10/site-packages (from tensorflow->-r ../../requirements.txt (line 8)) (1.64.0)\n",
      "Requirement already satisfied: protobuf!=4.21.0,!=4.21.1,!=4.21.2,!=4.21.3,!=4.21.4,!=4.21.5,<5.0.0dev,>=3.20.3 in /Users/DaisyWang/Desktop/Work/Cremer/ls/lib/python3.10/site-packages (from tensorflow->-r ../../requirements.txt (line 8)) (4.25.3)\n",
      "Requirement already satisfied: opt-einsum>=2.3.2 in /Users/DaisyWang/Desktop/Work/Cremer/ls/lib/python3.10/site-packages (from tensorflow->-r ../../requirements.txt (line 8)) (3.3.0)\n",
      "Requirement already satisfied: absl-py>=1.0.0 in /Users/DaisyWang/Desktop/Work/Cremer/ls/lib/python3.10/site-packages (from tensorflow->-r ../../requirements.txt (line 8)) (2.1.0)\n",
      "Requirement already satisfied: tensorboard<2.17,>=2.16 in /Users/DaisyWang/Desktop/Work/Cremer/ls/lib/python3.10/site-packages (from tensorflow->-r ../../requirements.txt (line 8)) (2.16.2)\n",
      "Requirement already satisfied: google-pasta>=0.1.1 in /Users/DaisyWang/Desktop/Work/Cremer/ls/lib/python3.10/site-packages (from tensorflow->-r ../../requirements.txt (line 8)) (0.2.0)\n",
      "Requirement already satisfied: astunparse>=1.6.0 in /Users/DaisyWang/Desktop/Work/Cremer/ls/lib/python3.10/site-packages (from tensorflow->-r ../../requirements.txt (line 8)) (1.6.3)\n",
      "Requirement already satisfied: wrapt>=1.11.0 in /Users/DaisyWang/Desktop/Work/Cremer/ls/lib/python3.10/site-packages (from tensorflow->-r ../../requirements.txt (line 8)) (1.16.0)\n",
      "Requirement already satisfied: h5py>=3.10.0 in /Users/DaisyWang/Desktop/Work/Cremer/ls/lib/python3.10/site-packages (from tensorflow->-r ../../requirements.txt (line 8)) (3.11.0)\n",
      "Requirement already satisfied: libclang>=13.0.0 in /Users/DaisyWang/Desktop/Work/Cremer/ls/lib/python3.10/site-packages (from tensorflow->-r ../../requirements.txt (line 8)) (18.1.1)\n",
      "Requirement already satisfied: setuptools in /Users/DaisyWang/Desktop/Work/Cremer/ls/lib/python3.10/site-packages (from tensorflow->-r ../../requirements.txt (line 8)) (65.6.3)\n",
      "Requirement already satisfied: gast!=0.5.0,!=0.5.1,!=0.5.2,>=0.2.1 in /Users/DaisyWang/Desktop/Work/Cremer/ls/lib/python3.10/site-packages (from tensorflow->-r ../../requirements.txt (line 8)) (0.5.4)\n",
      "Requirement already satisfied: termcolor>=1.1.0 in /Users/DaisyWang/Desktop/Work/Cremer/ls/lib/python3.10/site-packages (from tensorflow->-r ../../requirements.txt (line 8)) (2.4.0)\n",
      "Requirement already satisfied: rich in /Users/DaisyWang/Desktop/Work/Cremer/ls/lib/python3.10/site-packages (from keras->-r ../../requirements.txt (line 9)) (13.7.1)\n",
      "Requirement already satisfied: namex in /Users/DaisyWang/Desktop/Work/Cremer/ls/lib/python3.10/site-packages (from keras->-r ../../requirements.txt (line 9)) (0.0.8)\n",
      "Requirement already satisfied: optree in /Users/DaisyWang/Desktop/Work/Cremer/ls/lib/python3.10/site-packages (from keras->-r ../../requirements.txt (line 9)) (0.11.0)\n",
      "Requirement already satisfied: pytz>=2020.1 in /Users/DaisyWang/Desktop/Work/Cremer/ls/lib/python3.10/site-packages (from pandas->-r ../../requirements.txt (line 11)) (2024.1)\n",
      "Requirement already satisfied: tzdata>=2022.7 in /Users/DaisyWang/Desktop/Work/Cremer/ls/lib/python3.10/site-packages (from pandas->-r ../../requirements.txt (line 11)) (2024.1)\n",
      "Requirement already satisfied: wheel<1.0,>=0.23.0 in /Users/DaisyWang/Desktop/Work/Cremer/ls/lib/python3.10/site-packages (from astunparse>=1.6.0->tensorflow->-r ../../requirements.txt (line 8)) (0.38.4)\n",
      "Requirement already satisfied: charset-normalizer<4,>=2 in /Users/DaisyWang/Desktop/Work/Cremer/ls/lib/python3.10/site-packages (from requests->transformers->-r ../../requirements.txt (line 2)) (2.0.4)\n",
      "Requirement already satisfied: idna<4,>=2.5 in /Users/DaisyWang/Desktop/Work/Cremer/ls/lib/python3.10/site-packages (from requests->transformers->-r ../../requirements.txt (line 2)) (3.4)\n",
      "Requirement already satisfied: markdown>=2.6.8 in /Users/DaisyWang/Desktop/Work/Cremer/ls/lib/python3.10/site-packages (from tensorboard<2.17,>=2.16->tensorflow->-r ../../requirements.txt (line 8)) (3.6)\n",
      "Requirement already satisfied: werkzeug>=1.0.1 in /Users/DaisyWang/Desktop/Work/Cremer/ls/lib/python3.10/site-packages (from tensorboard<2.17,>=2.16->tensorflow->-r ../../requirements.txt (line 8)) (3.0.3)\n",
      "Requirement already satisfied: tensorboard-data-server<0.8.0,>=0.7.0 in /Users/DaisyWang/Desktop/Work/Cremer/ls/lib/python3.10/site-packages (from tensorboard<2.17,>=2.16->tensorflow->-r ../../requirements.txt (line 8)) (0.7.2)\n",
      "Requirement already satisfied: webencodings in /Users/DaisyWang/Desktop/Work/Cremer/ls/lib/python3.10/site-packages (from bleach->kaggle->-r ../../requirements.txt (line 6)) (0.5.1)\n",
      "Requirement already satisfied: MarkupSafe>=2.0 in /Users/DaisyWang/Desktop/Work/Cremer/ls/lib/python3.10/site-packages (from jinja2->torch->-r ../../requirements.txt (line 4)) (2.1.1)\n",
      "Requirement already satisfied: text-unidecode>=1.3 in /Users/DaisyWang/Desktop/Work/Cremer/ls/lib/python3.10/site-packages (from python-slugify->kaggle->-r ../../requirements.txt (line 6)) (1.3)\n",
      "Requirement already satisfied: pygments<3.0.0,>=2.13.0 in /Users/DaisyWang/Desktop/Work/Cremer/ls/lib/python3.10/site-packages (from rich->keras->-r ../../requirements.txt (line 9)) (2.18.0)\n",
      "Requirement already satisfied: markdown-it-py>=2.2.0 in /Users/DaisyWang/Desktop/Work/Cremer/ls/lib/python3.10/site-packages (from rich->keras->-r ../../requirements.txt (line 9)) (3.0.0)\n",
      "Requirement already satisfied: mpmath<1.4.0,>=1.1.0 in /Users/DaisyWang/Desktop/Work/Cremer/ls/lib/python3.10/site-packages (from sympy->torch->-r ../../requirements.txt (line 4)) (1.3.0)\n",
      "Requirement already satisfied: mdurl~=0.1 in /Users/DaisyWang/Desktop/Work/Cremer/ls/lib/python3.10/site-packages (from markdown-it-py>=2.2.0->rich->keras->-r ../../requirements.txt (line 9)) (0.1.2)\n",
      "Requirement already satisfied: pandas in /Users/DaisyWang/Desktop/Work/Cremer/ls/lib/python3.10/site-packages (2.2.2)\n",
      "Requirement already satisfied: tzdata>=2022.7 in /Users/DaisyWang/Desktop/Work/Cremer/ls/lib/python3.10/site-packages (from pandas) (2024.1)\n",
      "Requirement already satisfied: pytz>=2020.1 in /Users/DaisyWang/Desktop/Work/Cremer/ls/lib/python3.10/site-packages (from pandas) (2024.1)\n",
      "Requirement already satisfied: python-dateutil>=2.8.2 in /Users/DaisyWang/Desktop/Work/Cremer/ls/lib/python3.10/site-packages (from pandas) (2.8.2)\n",
      "Requirement already satisfied: numpy>=1.22.4 in /Users/DaisyWang/Desktop/Work/Cremer/ls/lib/python3.10/site-packages (from pandas) (1.23.5)\n",
      "Requirement already satisfied: six>=1.5 in /Users/DaisyWang/Desktop/Work/Cremer/ls/lib/python3.10/site-packages (from python-dateutil>=2.8.2->pandas) (1.16.0)\n",
      "Requirement already satisfied: numpy in /Users/DaisyWang/Desktop/Work/Cremer/ls/lib/python3.10/site-packages (1.23.5)\n",
      "Collecting numpy\n",
      "  Using cached numpy-1.26.4-cp310-cp310-macosx_11_0_arm64.whl (14.0 MB)\n",
      "Installing collected packages: numpy\n",
      "  Attempting uninstall: numpy\n",
      "    Found existing installation: numpy 1.23.5\n",
      "    Uninstalling numpy-1.23.5:\n",
      "      Successfully uninstalled numpy-1.23.5\n",
      "Successfully installed numpy-1.26.4\n"
     ]
    }
   ],
   "source": [
    "!pip3 install -r ../../requirements.txt\n",
    "!pip3 install pandas\n",
    "!pip3 install numpy --upgrade"
   ]
  },
  {
   "cell_type": "markdown",
   "id": "3ba5ea58-e4ac-42b3-9320-257c86a3961f",
   "metadata": {},
   "source": [
    "## import statement magic"
   ]
  },
  {
   "cell_type": "code",
   "execution_count": 4,
   "id": "aa41ed84-817e-42b7-b203-8c7a1591b3fe",
   "metadata": {},
   "outputs": [],
   "source": [
    "# import tensorflow/keras stuff\n",
    "# from tensorflow.keras.preprocessing import image_dataset_from_directory\n",
    "from tensorflow.keras import layers, models, optimizers\n",
    "from sklearn.model_selection import train_test_split\n",
    "from keras.layers import Convolution2D, MaxPooling2D, ZeroPadding2D, GlobalAveragePooling2D, AveragePooling2D, Activation, Dense\n",
    "from tensorflow.keras.optimizers import Adam\n",
    "from sklearn.model_selection import KFold\n",
    "from tensorflow.keras.preprocessing.image import ImageDataGenerator\n",
    "from keras.models import Model\n",
    "import keras\n",
    "from keras.preprocessing.image import img_to_array\n",
    "\n",
    "# import data processing/visualisation things\n",
    "import numpy as np\n",
    "import pandas as pd\n",
    "import seaborn as sns\n",
    "sns.set_style('darkgrid')\n",
    "import matplotlib.pyplot as plt\n",
    "from sklearn.model_selection import train_test_split\n",
    "from sklearn.metrics import confusion_matrix, classification_report\n",
    "from matplotlib import pyplot as plt\n",
    "%matplotlib inline\n",
    "\n",
    "# importing misc stuff\n",
    "import os\n",
    "import cv2"
   ]
  },
  {
   "cell_type": "markdown",
   "id": "bcbe681c-9a4a-4720-9293-b36d5d2b263e",
   "metadata": {},
   "source": [
    "## Create the EfficientNetB0 Model\n",
    "\n",
    "We have decided to do EfficientNetB0, instead of EfficientNetB7, as we originally wanted, due to limited resources. EfficientNetB0 requires inputs of 224 x 224, but B7 requires 600 x 600, placing a significantly higher demand on our resources and causing strain for us.\n",
    "\n",
    "From Keras:\n",
    ">This model takes input images of shape (224, 224, 3), and the input data should be in the range [0, 255]. Normalization is included as part of the model."
   ]
  },
  {
   "cell_type": "code",
   "execution_count": 5,
   "id": "b0a4074b-d16d-43c4-b83e-73a50f207227",
   "metadata": {},
   "outputs": [],
   "source": [
    "from tensorflow.keras.applications import EfficientNetB0\n",
    "\n",
    "# include_top = False as we want to do transfer learning\n",
    "base_model = EfficientNetB0(include_top=False, weights='imagenet')"
   ]
  },
  {
   "cell_type": "markdown",
   "id": "6cb2e9af-4815-4f14-8351-01844dfccb69",
   "metadata": {},
   "source": [
    "## Load the data in\n",
    "\n",
    "### set up the data generator, and have it rescale pixel values to 0, 1"
   ]
  },
  {
   "cell_type": "code",
   "execution_count": 6,
   "id": "43053c30-5f55-47f6-89ac-cbc24cd4501d",
   "metadata": {},
   "outputs": [],
   "source": [
    "datagen = ImageDataGenerator(rescale=1./255)  # rescale pixel values to [0,1]"
   ]
  },
  {
   "cell_type": "markdown",
   "id": "a7a3355d-cdd5-4767-b824-076298bf6183",
   "metadata": {},
   "source": [
    "### set up some default values (paths + constants)"
   ]
  },
  {
   "cell_type": "code",
   "execution_count": 7,
   "id": "b25571c0-d211-448e-aedd-df7f56202b60",
   "metadata": {},
   "outputs": [],
   "source": [
    "# IMG_SIZE is determined by EfficientNet model choice\n",
    "directory = 'lung_colon_image_set/lung_image_sets/'\n",
    "batch_size = 32\n",
    "IMG_SIZE = 224  # adjust according to your image size\n",
    "NUM_CLASSES = 3 # we have three classes (healthy, adenocarcinoma, and SCC)\n",
    "TARGET_SIZE = (IMG_SIZE, IMG_SIZE)"
   ]
  },
  {
   "cell_type": "markdown",
   "id": "0e8b76ac-5e8d-464c-a51c-68b4a6e30152",
   "metadata": {},
   "source": [
    "### set up the data generator"
   ]
  },
  {
   "cell_type": "code",
   "execution_count": 8,
   "id": "efd5edb5-692c-4fe5-bf89-ef4df79349be",
   "metadata": {},
   "outputs": [
    {
     "name": "stdout",
     "output_type": "stream",
     "text": [
      "Found 15000 images belonging to 3 classes.\n"
     ]
    }
   ],
   "source": [
    "data_generator = datagen.flow_from_directory(\n",
    "    directory,\n",
    "    target_size = TARGET_SIZE, # image size of 224 x 224\n",
    "    batch_size=batch_size,\n",
    "    class_mode='categorical'  # we're dealing with categorical data, this also does one-hot encoding for us\n",
    ")"
   ]
  },
  {
   "cell_type": "markdown",
   "id": "6ebd9de9-be4b-4546-a43d-34699efccef1",
   "metadata": {},
   "source": [
    "### Create the model"
   ]
  },
  {
   "cell_type": "code",
   "execution_count": 9,
   "id": "9bc77e54-a2aa-4247-83b7-ff012e441adf",
   "metadata": {},
   "outputs": [],
   "source": [
    "def build_model(num_classes):\n",
    "    inputs = layers.Input(shape=(IMG_SIZE, IMG_SIZE, 3))\n",
    "    model = EfficientNetB0(include_top=False, input_tensor=inputs, weights=\"imagenet\")\n",
    "\n",
    "    # Freeze the pretrained weights\n",
    "    model.trainable = False\n",
    "\n",
    "    # Rebuild top\n",
    "    x = layers.GlobalAveragePooling2D(name=\"avg_pool\")(model.output)\n",
    "    x = layers.BatchNormalization()(x)\n",
    "\n",
    "    top_dropout_rate = 0.2\n",
    "    x = layers.Dropout(top_dropout_rate, name=\"top_dropout\")(x)\n",
    "    outputs = layers.Dense(num_classes, activation=\"softmax\", name=\"pred\")(x)\n",
    "\n",
    "    # Compile\n",
    "    model = keras.Model(inputs, outputs, name=\"EfficientNet\")\n",
    "    optimizer = keras.optimizers.Adam(learning_rate=1e-2)\n",
    "    model.compile(\n",
    "        optimizer=optimizer, loss=\"categorical_crossentropy\", metrics=[\"accuracy\"]\n",
    "    )\n",
    "    return model"
   ]
  },
  {
   "cell_type": "markdown",
   "id": "180511ab-2987-48e8-8efc-efe960df10cd",
   "metadata": {},
   "source": [
    "## detour: attempting to load the data in as a pandas df to save myself"
   ]
  },
  {
   "cell_type": "code",
   "execution_count": 10,
   "id": "21a9f585-8e59-447a-b070-5005e5691aa2",
   "metadata": {},
   "outputs": [],
   "source": [
    "# ignore this didn't work"
   ]
  },
  {
   "cell_type": "markdown",
   "id": "f190c296-055c-473e-b37c-4a4c3d09247b",
   "metadata": {},
   "source": [
    "## attempt"
   ]
  },
  {
   "cell_type": "markdown",
   "id": "f74b7dd2-b6c0-414b-9b36-8f70416df94e",
   "metadata": {},
   "source": [
    "## TRAINING START"
   ]
  },
  {
   "cell_type": "code",
   "execution_count": null,
   "id": "500cc17f-bf58-4dbf-8f51-8f233f20a663",
   "metadata": {},
   "outputs": [],
   "source": [
    "# Split data into five folds for validation\n",
    "X = np.array(data_generator.filenames)\n",
    "kf = KFold(n_splits=5, shuffle=True)\n",
    "\n",
    "for train_index, val_index in kf.split(X):\n",
    "    # get the train and test values for this k fold\n",
    "    train_files, val_files = X[train_index], X[val_index]\n",
    "\n",
    "    train_images = [keras.utils.load_img(directory + file) for file in train_files]\n",
    "\n",
    "    train_array = [keras.utils.img_to_array(img) for img in train_images]\n",
    "    \n",
    "    val_images = [keras.utils.load_img(directory + file) for file in val_files]\n",
    "    \n",
    "    train_array = [keras.utils.img_to_array(img) for img in val_images]\n",
    "\n",
    "    # build the model!\n",
    "    model = build_model(num_classes=NUM_CLASSES)\n",
    "\n",
    "    # train!!!\n",
    "    epochs = 8  # @param {type: \"slider\", min:8, max:80}\n",
    "    hist = model.fit(train_array, epochs=epochs, validation_data=val_array)\n",
    "\n",
    "    # plot\n",
    "    plot_hist(hist)"
   ]
  }
 ],
 "metadata": {
  "kernelspec": {
   "display_name": "Python 3 (ipykernel)",
   "language": "python",
   "name": "python3"
  },
  "language_info": {
   "codemirror_mode": {
    "name": "ipython",
    "version": 3
   },
   "file_extension": ".py",
   "mimetype": "text/x-python",
   "name": "python",
   "nbconvert_exporter": "python",
   "pygments_lexer": "ipython3",
   "version": "3.10.12"
  }
 },
 "nbformat": 4,
 "nbformat_minor": 5
}
