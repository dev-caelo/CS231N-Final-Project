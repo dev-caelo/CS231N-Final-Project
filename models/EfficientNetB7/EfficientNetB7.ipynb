{
 "cells": [
  {
   "cell_type": "markdown",
   "id": "4a8eec0a-2361-43b1-bb33-2e2aab3bd0aa",
   "metadata": {},
   "source": [
    "# EfficientNetB7 - Daisy Wang\n",
    "\n",
    "## pip3 install requirements"
   ]
  },
  {
   "cell_type": "code",
   "execution_count": 3,
   "id": "cee8cbfc-7095-4ef1-8a06-a01b89588df1",
   "metadata": {},
   "outputs": [
    {
     "name": "stdout",
     "output_type": "stream",
     "text": [
      "Requirement already satisfied: numpy in /Users/DaisyWang/Desktop/Work/Cremer/ls/lib/python3.10/site-packages (from -r ../../requirements.txt (line 1)) (1.26.4)\n",
      "Requirement already satisfied: transformers in /Users/DaisyWang/Desktop/Work/Cremer/ls/lib/python3.10/site-packages (from -r ../../requirements.txt (line 2)) (4.41.2)\n",
      "Requirement already satisfied: matplotlib in /Users/DaisyWang/Desktop/Work/Cremer/ls/lib/python3.10/site-packages (from -r ../../requirements.txt (line 3)) (3.9.0)\n",
      "Requirement already satisfied: torch in /Users/DaisyWang/Desktop/Work/Cremer/ls/lib/python3.10/site-packages (from -r ../../requirements.txt (line 4)) (2.3.0)\n",
      "Requirement already satisfied: torchvision in /Users/DaisyWang/Desktop/Work/Cremer/ls/lib/python3.10/site-packages (from -r ../../requirements.txt (line 5)) (0.18.0)\n",
      "Requirement already satisfied: kaggle in /Users/DaisyWang/Desktop/Work/Cremer/ls/lib/python3.10/site-packages (from -r ../../requirements.txt (line 6)) (1.6.14)\n",
      "Requirement already satisfied: scikit-learn in /Users/DaisyWang/Desktop/Work/Cremer/ls/lib/python3.10/site-packages (from -r ../../requirements.txt (line 7)) (1.5.0)\n",
      "Requirement already satisfied: tensorflow in /Users/DaisyWang/Desktop/Work/Cremer/ls/lib/python3.10/site-packages (from -r ../../requirements.txt (line 8)) (2.16.1)\n",
      "Requirement already satisfied: keras in /Users/DaisyWang/Desktop/Work/Cremer/ls/lib/python3.10/site-packages (from -r ../../requirements.txt (line 9)) (3.3.3)\n",
      "Requirement already satisfied: seaborn in /Users/DaisyWang/Desktop/Work/Cremer/ls/lib/python3.10/site-packages (from -r ../../requirements.txt (line 10)) (0.13.2)\n",
      "Requirement already satisfied: pandas in /Users/DaisyWang/Desktop/Work/Cremer/ls/lib/python3.10/site-packages (from -r ../../requirements.txt (line 11)) (2.2.2)\n",
      "Requirement already satisfied: packaging>=20.0 in /Users/DaisyWang/Desktop/Work/Cremer/ls/lib/python3.10/site-packages (from transformers->-r ../../requirements.txt (line 2)) (23.1)\n",
      "Requirement already satisfied: filelock in /Users/DaisyWang/Desktop/Work/Cremer/ls/lib/python3.10/site-packages (from transformers->-r ../../requirements.txt (line 2)) (3.14.0)\n",
      "Requirement already satisfied: huggingface-hub<1.0,>=0.23.0 in /Users/DaisyWang/Desktop/Work/Cremer/ls/lib/python3.10/site-packages (from transformers->-r ../../requirements.txt (line 2)) (0.23.2)\n",
      "Requirement already satisfied: safetensors>=0.4.1 in /Users/DaisyWang/Desktop/Work/Cremer/ls/lib/python3.10/site-packages (from transformers->-r ../../requirements.txt (line 2)) (0.4.3)\n",
      "Requirement already satisfied: tokenizers<0.20,>=0.19 in /Users/DaisyWang/Desktop/Work/Cremer/ls/lib/python3.10/site-packages (from transformers->-r ../../requirements.txt (line 2)) (0.19.1)\n",
      "Requirement already satisfied: regex!=2019.12.17 in /Users/DaisyWang/Desktop/Work/Cremer/ls/lib/python3.10/site-packages (from transformers->-r ../../requirements.txt (line 2)) (2024.5.15)\n",
      "Requirement already satisfied: requests in /Users/DaisyWang/Desktop/Work/Cremer/ls/lib/python3.10/site-packages (from transformers->-r ../../requirements.txt (line 2)) (2.31.0)\n",
      "Requirement already satisfied: tqdm>=4.27 in /Users/DaisyWang/Desktop/Work/Cremer/ls/lib/python3.10/site-packages (from transformers->-r ../../requirements.txt (line 2)) (4.65.0)\n",
      "Requirement already satisfied: pyyaml>=5.1 in /Users/DaisyWang/Desktop/Work/Cremer/ls/lib/python3.10/site-packages (from transformers->-r ../../requirements.txt (line 2)) (6.0.1)\n",
      "Requirement already satisfied: python-dateutil>=2.7 in /Users/DaisyWang/Desktop/Work/Cremer/ls/lib/python3.10/site-packages (from matplotlib->-r ../../requirements.txt (line 3)) (2.8.2)\n",
      "Requirement already satisfied: pyparsing>=2.3.1 in /Users/DaisyWang/Desktop/Work/Cremer/ls/lib/python3.10/site-packages (from matplotlib->-r ../../requirements.txt (line 3)) (3.1.2)\n",
      "Requirement already satisfied: fonttools>=4.22.0 in /Users/DaisyWang/Desktop/Work/Cremer/ls/lib/python3.10/site-packages (from matplotlib->-r ../../requirements.txt (line 3)) (4.52.4)\n",
      "Requirement already satisfied: contourpy>=1.0.1 in /Users/DaisyWang/Desktop/Work/Cremer/ls/lib/python3.10/site-packages (from matplotlib->-r ../../requirements.txt (line 3)) (1.2.1)\n",
      "Requirement already satisfied: pillow>=8 in /Users/DaisyWang/Desktop/Work/Cremer/ls/lib/python3.10/site-packages (from matplotlib->-r ../../requirements.txt (line 3)) (10.3.0)\n",
      "Requirement already satisfied: cycler>=0.10 in /Users/DaisyWang/Desktop/Work/Cremer/ls/lib/python3.10/site-packages (from matplotlib->-r ../../requirements.txt (line 3)) (0.12.1)\n",
      "Requirement already satisfied: kiwisolver>=1.3.1 in /Users/DaisyWang/Desktop/Work/Cremer/ls/lib/python3.10/site-packages (from matplotlib->-r ../../requirements.txt (line 3)) (1.4.5)\n",
      "Requirement already satisfied: fsspec in /Users/DaisyWang/Desktop/Work/Cremer/ls/lib/python3.10/site-packages (from torch->-r ../../requirements.txt (line 4)) (2024.5.0)\n",
      "Requirement already satisfied: jinja2 in /Users/DaisyWang/Desktop/Work/Cremer/ls/lib/python3.10/site-packages (from torch->-r ../../requirements.txt (line 4)) (3.1.4)\n",
      "Requirement already satisfied: sympy in /Users/DaisyWang/Desktop/Work/Cremer/ls/lib/python3.10/site-packages (from torch->-r ../../requirements.txt (line 4)) (1.12.1)\n",
      "Requirement already satisfied: typing-extensions>=4.8.0 in /Users/DaisyWang/Desktop/Work/Cremer/ls/lib/python3.10/site-packages (from torch->-r ../../requirements.txt (line 4)) (4.12.0)\n",
      "Requirement already satisfied: networkx in /Users/DaisyWang/Desktop/Work/Cremer/ls/lib/python3.10/site-packages (from torch->-r ../../requirements.txt (line 4)) (3.3)\n",
      "Requirement already satisfied: six>=1.10 in /Users/DaisyWang/Desktop/Work/Cremer/ls/lib/python3.10/site-packages (from kaggle->-r ../../requirements.txt (line 6)) (1.16.0)\n",
      "Requirement already satisfied: bleach in /Users/DaisyWang/Desktop/Work/Cremer/ls/lib/python3.10/site-packages (from kaggle->-r ../../requirements.txt (line 6)) (6.1.0)\n",
      "Requirement already satisfied: certifi>=2023.7.22 in /Users/DaisyWang/Desktop/Work/Cremer/ls/lib/python3.10/site-packages (from kaggle->-r ../../requirements.txt (line 6)) (2023.7.22)\n",
      "Requirement already satisfied: urllib3 in /Users/DaisyWang/Desktop/Work/Cremer/ls/lib/python3.10/site-packages (from kaggle->-r ../../requirements.txt (line 6)) (2.0.4)\n",
      "Requirement already satisfied: python-slugify in /Users/DaisyWang/Desktop/Work/Cremer/ls/lib/python3.10/site-packages (from kaggle->-r ../../requirements.txt (line 6)) (8.0.4)\n",
      "Requirement already satisfied: threadpoolctl>=3.1.0 in /Users/DaisyWang/Desktop/Work/Cremer/ls/lib/python3.10/site-packages (from scikit-learn->-r ../../requirements.txt (line 7)) (3.5.0)\n",
      "Requirement already satisfied: scipy>=1.6.0 in /Users/DaisyWang/Desktop/Work/Cremer/ls/lib/python3.10/site-packages (from scikit-learn->-r ../../requirements.txt (line 7)) (1.13.1)\n",
      "Requirement already satisfied: joblib>=1.2.0 in /Users/DaisyWang/Desktop/Work/Cremer/ls/lib/python3.10/site-packages (from scikit-learn->-r ../../requirements.txt (line 7)) (1.4.2)\n",
      "Requirement already satisfied: tensorflow-io-gcs-filesystem>=0.23.1 in /Users/DaisyWang/Desktop/Work/Cremer/ls/lib/python3.10/site-packages (from tensorflow->-r ../../requirements.txt (line 8)) (0.37.0)\n",
      "Requirement already satisfied: termcolor>=1.1.0 in /Users/DaisyWang/Desktop/Work/Cremer/ls/lib/python3.10/site-packages (from tensorflow->-r ../../requirements.txt (line 8)) (2.4.0)\n",
      "Requirement already satisfied: flatbuffers>=23.5.26 in /Users/DaisyWang/Desktop/Work/Cremer/ls/lib/python3.10/site-packages (from tensorflow->-r ../../requirements.txt (line 8)) (24.3.25)\n",
      "Requirement already satisfied: google-pasta>=0.1.1 in /Users/DaisyWang/Desktop/Work/Cremer/ls/lib/python3.10/site-packages (from tensorflow->-r ../../requirements.txt (line 8)) (0.2.0)\n",
      "Requirement already satisfied: astunparse>=1.6.0 in /Users/DaisyWang/Desktop/Work/Cremer/ls/lib/python3.10/site-packages (from tensorflow->-r ../../requirements.txt (line 8)) (1.6.3)\n",
      "Requirement already satisfied: gast!=0.5.0,!=0.5.1,!=0.5.2,>=0.2.1 in /Users/DaisyWang/Desktop/Work/Cremer/ls/lib/python3.10/site-packages (from tensorflow->-r ../../requirements.txt (line 8)) (0.5.4)\n",
      "Requirement already satisfied: ml-dtypes~=0.3.1 in /Users/DaisyWang/Desktop/Work/Cremer/ls/lib/python3.10/site-packages (from tensorflow->-r ../../requirements.txt (line 8)) (0.3.2)\n",
      "Requirement already satisfied: absl-py>=1.0.0 in /Users/DaisyWang/Desktop/Work/Cremer/ls/lib/python3.10/site-packages (from tensorflow->-r ../../requirements.txt (line 8)) (2.1.0)\n",
      "Requirement already satisfied: tensorboard<2.17,>=2.16 in /Users/DaisyWang/Desktop/Work/Cremer/ls/lib/python3.10/site-packages (from tensorflow->-r ../../requirements.txt (line 8)) (2.16.2)\n",
      "Requirement already satisfied: wrapt>=1.11.0 in /Users/DaisyWang/Desktop/Work/Cremer/ls/lib/python3.10/site-packages (from tensorflow->-r ../../requirements.txt (line 8)) (1.16.0)\n",
      "Requirement already satisfied: opt-einsum>=2.3.2 in /Users/DaisyWang/Desktop/Work/Cremer/ls/lib/python3.10/site-packages (from tensorflow->-r ../../requirements.txt (line 8)) (3.3.0)\n",
      "Requirement already satisfied: protobuf!=4.21.0,!=4.21.1,!=4.21.2,!=4.21.3,!=4.21.4,!=4.21.5,<5.0.0dev,>=3.20.3 in /Users/DaisyWang/Desktop/Work/Cremer/ls/lib/python3.10/site-packages (from tensorflow->-r ../../requirements.txt (line 8)) (4.25.3)\n",
      "Requirement already satisfied: grpcio<2.0,>=1.24.3 in /Users/DaisyWang/Desktop/Work/Cremer/ls/lib/python3.10/site-packages (from tensorflow->-r ../../requirements.txt (line 8)) (1.64.0)\n",
      "Requirement already satisfied: libclang>=13.0.0 in /Users/DaisyWang/Desktop/Work/Cremer/ls/lib/python3.10/site-packages (from tensorflow->-r ../../requirements.txt (line 8)) (18.1.1)\n",
      "Requirement already satisfied: setuptools in /Users/DaisyWang/Desktop/Work/Cremer/ls/lib/python3.10/site-packages (from tensorflow->-r ../../requirements.txt (line 8)) (68.0.0)\n",
      "Requirement already satisfied: h5py>=3.10.0 in /Users/DaisyWang/Desktop/Work/Cremer/ls/lib/python3.10/site-packages (from tensorflow->-r ../../requirements.txt (line 8)) (3.11.0)\n",
      "Requirement already satisfied: namex in /Users/DaisyWang/Desktop/Work/Cremer/ls/lib/python3.10/site-packages (from keras->-r ../../requirements.txt (line 9)) (0.0.8)\n",
      "Requirement already satisfied: optree in /Users/DaisyWang/Desktop/Work/Cremer/ls/lib/python3.10/site-packages (from keras->-r ../../requirements.txt (line 9)) (0.11.0)\n",
      "Requirement already satisfied: rich in /Users/DaisyWang/Desktop/Work/Cremer/ls/lib/python3.10/site-packages (from keras->-r ../../requirements.txt (line 9)) (13.7.1)\n",
      "Requirement already satisfied: tzdata>=2022.7 in /Users/DaisyWang/Desktop/Work/Cremer/ls/lib/python3.10/site-packages (from pandas->-r ../../requirements.txt (line 11)) (2024.1)\n",
      "Requirement already satisfied: pytz>=2020.1 in /Users/DaisyWang/Desktop/Work/Cremer/ls/lib/python3.10/site-packages (from pandas->-r ../../requirements.txt (line 11)) (2024.1)\n",
      "Requirement already satisfied: wheel<1.0,>=0.23.0 in /Users/DaisyWang/Desktop/Work/Cremer/ls/lib/python3.10/site-packages (from astunparse>=1.6.0->tensorflow->-r ../../requirements.txt (line 8)) (0.41.0)\n",
      "Requirement already satisfied: idna<4,>=2.5 in /Users/DaisyWang/Desktop/Work/Cremer/ls/lib/python3.10/site-packages (from requests->transformers->-r ../../requirements.txt (line 2)) (3.4)\n",
      "Requirement already satisfied: charset-normalizer<4,>=2 in /Users/DaisyWang/Desktop/Work/Cremer/ls/lib/python3.10/site-packages (from requests->transformers->-r ../../requirements.txt (line 2)) (3.2.0)\n",
      "Requirement already satisfied: werkzeug>=1.0.1 in /Users/DaisyWang/Desktop/Work/Cremer/ls/lib/python3.10/site-packages (from tensorboard<2.17,>=2.16->tensorflow->-r ../../requirements.txt (line 8)) (3.0.3)\n",
      "Requirement already satisfied: markdown>=2.6.8 in /Users/DaisyWang/Desktop/Work/Cremer/ls/lib/python3.10/site-packages (from tensorboard<2.17,>=2.16->tensorflow->-r ../../requirements.txt (line 8)) (3.6)\n",
      "Requirement already satisfied: tensorboard-data-server<0.8.0,>=0.7.0 in /Users/DaisyWang/Desktop/Work/Cremer/ls/lib/python3.10/site-packages (from tensorboard<2.17,>=2.16->tensorflow->-r ../../requirements.txt (line 8)) (0.7.2)\n",
      "Requirement already satisfied: webencodings in /Users/DaisyWang/Desktop/Work/Cremer/ls/lib/python3.10/site-packages (from bleach->kaggle->-r ../../requirements.txt (line 6)) (0.5.1)\n",
      "Requirement already satisfied: MarkupSafe>=2.0 in /Users/DaisyWang/Desktop/Work/Cremer/ls/lib/python3.10/site-packages (from jinja2->torch->-r ../../requirements.txt (line 4)) (2.1.5)\n",
      "Requirement already satisfied: text-unidecode>=1.3 in /Users/DaisyWang/Desktop/Work/Cremer/ls/lib/python3.10/site-packages (from python-slugify->kaggle->-r ../../requirements.txt (line 6)) (1.3)\n",
      "Requirement already satisfied: markdown-it-py>=2.2.0 in /Users/DaisyWang/Desktop/Work/Cremer/ls/lib/python3.10/site-packages (from rich->keras->-r ../../requirements.txt (line 9)) (3.0.0)\n",
      "Requirement already satisfied: pygments<3.0.0,>=2.13.0 in /Users/DaisyWang/Desktop/Work/Cremer/ls/lib/python3.10/site-packages (from rich->keras->-r ../../requirements.txt (line 9)) (2.15.1)\n",
      "Requirement already satisfied: mpmath<1.4.0,>=1.1.0 in /Users/DaisyWang/Desktop/Work/Cremer/ls/lib/python3.10/site-packages (from sympy->torch->-r ../../requirements.txt (line 4)) (1.3.0)\n",
      "Requirement already satisfied: mdurl~=0.1 in /Users/DaisyWang/Desktop/Work/Cremer/ls/lib/python3.10/site-packages (from markdown-it-py>=2.2.0->rich->keras->-r ../../requirements.txt (line 9)) (0.1.2)\n",
      "Collecting opencv-python\n",
      "  Downloading opencv_python-4.9.0.80-cp37-abi3-macosx_11_0_arm64.whl (35.4 MB)\n",
      "\u001b[2K     \u001b[90m━━━━━━━━━━━━━━━━━━━━━━━━━━━━━━━━━━━━━━━━\u001b[0m \u001b[32m35.4/35.4 MB\u001b[0m \u001b[31m20.6 MB/s\u001b[0m eta \u001b[36m0:00:00\u001b[0m00:01\u001b[0m00:01\u001b[0m\n",
      "\u001b[?25hRequirement already satisfied: numpy>=1.21.2 in /Users/DaisyWang/Desktop/Work/Cremer/ls/lib/python3.10/site-packages (from opencv-python) (1.26.4)\n",
      "Installing collected packages: opencv-python\n",
      "Successfully installed opencv-python-4.9.0.80\n"
     ]
    }
   ],
   "source": [
    "!pip3 install -r ../../requirements.txt\n",
    "!pip3 install opencv-python"
   ]
  },
  {
   "cell_type": "markdown",
   "id": "fd583d63-5b24-49b9-a372-7f2d1b726373",
   "metadata": {},
   "source": [
    "## Import packages that we need"
   ]
  },
  {
   "cell_type": "code",
   "execution_count": 25,
   "id": "b9227d30-97b9-46b2-b90c-9846000d37b9",
   "metadata": {},
   "outputs": [],
   "source": [
    "# import tensorflow/keras stuff\n",
    "from tensorflow.keras.preprocessing import image_dataset_from_directory\n",
    "from tensorflow.keras.applications import EfficientNetB7\n",
    "from tensorflow.keras import layers, models, optimizers\n",
    "from sklearn.model_selection import train_test_split\n",
    "\n",
    "# import data processing/visualisation things\n",
    "import numpy as np\n",
    "import pandas as pd\n",
    "import seaborn as sns\n",
    "sns.set_style('darkgrid')\n",
    "import matplotlib.pyplot as plt\n",
    "from sklearn.model_selection import train_test_split\n",
    "from sklearn.metrics import confusion_matrix, classification_report\n",
    "from matplotlib import pyplot as plt\n",
    "%matplotlib inline\n",
    "\n",
    "# importing misc stuff\n",
    "import os\n",
    "import cv2"
   ]
  },
  {
   "cell_type": "markdown",
   "id": "605457b2-d5e4-41f4-82df-c0a854c57dc2",
   "metadata": {},
   "source": [
    "## download the data (if needed)"
   ]
  },
  {
   "cell_type": "code",
   "execution_count": 26,
   "id": "9b05f454-2f1a-4459-bba1-04f04c2d2e2f",
   "metadata": {},
   "outputs": [],
   "source": [
    "# commented out so that i don't accidentally run this again when speedrunning notebook\n",
    "#!kaggle datasets download -d andrewmvd/lung-and-colon-cancer-histopathological-images"
   ]
  },
  {
   "cell_type": "markdown",
   "id": "bdf89376-1e84-4549-b712-9a8ce346165d",
   "metadata": {},
   "source": [
    "## import data???\n",
    "\n",
    "### function to load images + downgrade data"
   ]
  },
  {
   "cell_type": "code",
   "execution_count": 14,
   "id": "4fa075ea-2fb1-4527-9c9f-07b912ba69c8",
   "metadata": {},
   "outputs": [],
   "source": [
    "# function to load images\n",
    "def load_images(folder):\n",
    "    images = []\n",
    "    for filename in os.listdir(folder):\n",
    "        img = cv2.imread(os.path.join(folder, filename))\n",
    "        if img is not None:\n",
    "            # resize so my cpu \n",
    "            img = cv2.resize(img, (80,80))\n",
    "            images.append(img)\n",
    "            \n",
    "    return np.array(images)"
   ]
  },
  {
   "cell_type": "markdown",
   "id": "69a27452-7acf-49b0-9d38-e9d69e9b2f9a",
   "metadata": {},
   "source": [
    "### load images with the correct names\n",
    "\n",
    "Note: need to modify the path based on where you're running this from"
   ]
  },
  {
   "cell_type": "code",
   "execution_count": 15,
   "id": "9c688f0b-4f68-4fc8-9848-a6fe84f914a1",
   "metadata": {},
   "outputs": [],
   "source": [
    "benign = load_images('lung_colon_image_set/lung_image_sets/lung_n')\n",
    "mal_aca = load_images('lung_colon_image_set/lung_image_sets/lung_aca')\n",
    "mal_scc = load_images('lung_colon_image_set/lung_image_sets/lung_scc')"
   ]
  },
  {
   "cell_type": "markdown",
   "id": "a5f47feb-cdd1-437d-9312-4b413424eebb",
   "metadata": {},
   "source": [
    "### make sure that everything is correct"
   ]
  },
  {
   "cell_type": "code",
   "execution_count": 17,
   "id": "2feef495-2026-4421-a318-b04901dc1a59",
   "metadata": {},
   "outputs": [
    {
     "name": "stdout",
     "output_type": "stream",
     "text": [
      "Number of images for every class: BENIGN 5000, ADENOCARCINOMAS 5000, SQUAMOS CELL CARCINOMAS 5000.\n",
      "Images shape: (80, 80, 3).\n"
     ]
    }
   ],
   "source": [
    "print(f\"Number of images for every class: BENIGN {benign.shape[0]}, ADENOCARCINOMAS {mal_aca.shape[0]}, \\\n",
    "SQUAMOS CELL CARCINOMAS {mal_scc.shape[0]}.\")\n",
    "print(f\"Images shape: {benign[0].shape}.\")"
   ]
  },
  {
   "cell_type": "markdown",
   "id": "78b8048d-bc51-4e98-9f0e-fa160638e302",
   "metadata": {},
   "source": [
    "### get samples and labels!"
   ]
  },
  {
   "cell_type": "code",
   "execution_count": 18,
   "id": "87c15416-02ad-4e88-9550-205285cc7143",
   "metadata": {},
   "outputs": [],
   "source": [
    "samples = np.concatenate((benign, mal_aca, mal_scc))\n",
    "labels = np.array(benign.shape[0] * [0] + mal_aca.shape[0] * [1] + mal_scc.shape[0] * [2])"
   ]
  },
  {
   "cell_type": "markdown",
   "id": "a4cd56bb-468c-48e6-830e-8032282745d4",
   "metadata": {},
   "source": [
    "### check that everything is correct"
   ]
  },
  {
   "cell_type": "code",
   "execution_count": 22,
   "id": "e806789b-3527-4b3f-b032-9208326f5b5d",
   "metadata": {},
   "outputs": [
    {
     "name": "stdout",
     "output_type": "stream",
     "text": [
      "Samples shape check: (15000, 80, 80, 3).\n",
      "Labels shape check: (15000,).\n"
     ]
    }
   ],
   "source": [
    "print(f\"Samples shape check: {samples.shape}.\")\n",
    "print(f\"Labels shape check: {labels.shape}.\")"
   ]
  },
  {
   "cell_type": "code",
   "execution_count": 23,
   "id": "1af774f1-806e-4d52-969a-85ea2525cc52",
   "metadata": {},
   "outputs": [],
   "source": [
    "indices = np.arange(samples.shape[0])\n",
    "np.random.shuffle(indices)\n",
    "\n",
    "samples = samples[indices]\n",
    "labels = labels[indices]\n",
    "\n",
    "# normalize pictures\n",
    "samples = samples.astype('float32') / 255"
   ]
  },
  {
   "cell_type": "markdown",
   "id": "a759680d-08b4-4828-b0ce-e8c16bdfda4e",
   "metadata": {},
   "source": [
    "## train test split"
   ]
  },
  {
   "cell_type": "code",
   "execution_count": 28,
   "id": "f4d52d79-4a38-430d-9ffd-da55ac10fe15",
   "metadata": {},
   "outputs": [],
   "source": [
    "X_train, X_test, y_train, y_test = train_test_split(samples, labels, test_size = 0.2)\n",
    "\n",
    "X_val, X_test, y_val, y_test = train_test_split(X_test, y_test, test_size = 0.5)"
   ]
  },
  {
   "cell_type": "markdown",
   "id": "42eb72a6-851a-4d8e-9441-2efafa330000",
   "metadata": {},
   "source": [
    "## MODEL TIME RAAAAAH\n",
    "\n",
    "### Setup the model using Keras"
   ]
  },
  {
   "cell_type": "code",
   "execution_count": 29,
   "id": "a8298f6d-0bff-4251-8cdd-bf71d65b02ae",
   "metadata": {},
   "outputs": [
    {
     "name": "stdout",
     "output_type": "stream",
     "text": [
      "Downloading data from https://storage.googleapis.com/keras-applications/efficientnetb7_notop.h5\n",
      "\u001b[1m258076736/258076736\u001b[0m \u001b[32m━━━━━━━━━━━━━━━━━━━━\u001b[0m\u001b[37m\u001b[0m \u001b[1m13s\u001b[0m 0us/step\n"
     ]
    }
   ],
   "source": [
    "model = EfficientNetB7(weights='imagenet', include_top=False, input_shape=(80, 80, 3))"
   ]
  },
  {
   "cell_type": "code",
   "execution_count": null,
   "id": "9aeba357-23ac-464e-b50d-0e702982b37b",
   "metadata": {},
   "outputs": [],
   "source": []
  }
 ],
 "metadata": {
  "kernelspec": {
   "display_name": "Python 3 (ipykernel)",
   "language": "python",
   "name": "python3"
  },
  "language_info": {
   "codemirror_mode": {
    "name": "ipython",
    "version": 3
   },
   "file_extension": ".py",
   "mimetype": "text/x-python",
   "name": "python",
   "nbconvert_exporter": "python",
   "pygments_lexer": "ipython3",
   "version": "3.10.12"
  }
 },
 "nbformat": 4,
 "nbformat_minor": 5
}
