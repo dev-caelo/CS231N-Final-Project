{
 "cells": [
  {
   "cell_type": "markdown",
   "id": "83f9d119-1c9c-4d1b-923b-e6bd49f45b5f",
   "metadata": {},
   "source": [
    "## Overview\n",
    "\n",
    "Hello! Welcome to the architecture setup notebook, where we will be installing all requirements and outline the basic architecture of our AlexNet model (whose performance will be compared to our custom model, EfficentNet, and ConvNeXt). \n",
    "\n",
    "\n",
    "The cell below handles our initial requirements installation:"
   ]
  },
  {
   "cell_type": "code",
   "execution_count": 3,
   "id": "d1e7b0f3-17de-4abc-bdd0-ea94640db448",
   "metadata": {},
   "outputs": [
    {
     "name": "stdout",
     "output_type": "stream",
     "text": [
      "Defaulting to user installation because normal site-packages is not writeable\n",
      "Requirement already satisfied: numpy in /home/ubuntu/.local/lib/python3.8/site-packages (from -r ../../requirements.txt (line 1)) (1.23.5)\n",
      "Requirement already satisfied: transformers in /home/ubuntu/.local/lib/python3.8/site-packages (from -r ../../requirements.txt (line 2)) (4.41.2)\n",
      "Requirement already satisfied: matplotlib in /home/ubuntu/.local/lib/python3.8/site-packages (from -r ../../requirements.txt (line 3)) (3.7.5)\n",
      "Requirement already satisfied: torch in /home/ubuntu/.local/lib/python3.8/site-packages (from -r ../../requirements.txt (line 4)) (2.3.0)\n",
      "Requirement already satisfied: torchvision in /home/ubuntu/.local/lib/python3.8/site-packages (from -r ../../requirements.txt (line 5)) (0.18.0)\n",
      "Requirement already satisfied: kaggle in /home/ubuntu/.local/lib/python3.8/site-packages (from -r ../../requirements.txt (line 6)) (1.6.14)\n",
      "Requirement already satisfied: scikit-learn in /home/ubuntu/.local/lib/python3.8/site-packages (from -r ../../requirements.txt (line 7)) (1.3.2)\n",
      "Requirement already satisfied: seaborn in /home/ubuntu/.local/lib/python3.8/site-packages (from -r ../../requirements.txt (line 8)) (0.13.2)\n",
      "Requirement already satisfied: filelock in /home/ubuntu/.local/lib/python3.8/site-packages (from transformers->-r ../../requirements.txt (line 2)) (3.14.0)\n",
      "Requirement already satisfied: huggingface-hub<1.0,>=0.23.0 in /home/ubuntu/.local/lib/python3.8/site-packages (from transformers->-r ../../requirements.txt (line 2)) (0.23.2)\n",
      "Requirement already satisfied: packaging>=20.0 in /usr/local/lib/python3.8/dist-packages (from transformers->-r ../../requirements.txt (line 2)) (24.0)\n",
      "Requirement already satisfied: pyyaml>=5.1 in /usr/lib/python3/dist-packages (from transformers->-r ../../requirements.txt (line 2)) (5.3.1)\n",
      "Requirement already satisfied: regex!=2019.12.17 in /home/ubuntu/.local/lib/python3.8/site-packages (from transformers->-r ../../requirements.txt (line 2)) (2024.5.15)\n",
      "Requirement already satisfied: requests in /usr/local/lib/python3.8/dist-packages (from transformers->-r ../../requirements.txt (line 2)) (2.32.3)\n",
      "Requirement already satisfied: tokenizers<0.20,>=0.19 in /home/ubuntu/.local/lib/python3.8/site-packages (from transformers->-r ../../requirements.txt (line 2)) (0.19.1)\n",
      "Requirement already satisfied: safetensors>=0.4.1 in /home/ubuntu/.local/lib/python3.8/site-packages (from transformers->-r ../../requirements.txt (line 2)) (0.4.3)\n",
      "Requirement already satisfied: tqdm>=4.27 in /home/ubuntu/.local/lib/python3.8/site-packages (from transformers->-r ../../requirements.txt (line 2)) (4.66.4)\n",
      "Requirement already satisfied: contourpy>=1.0.1 in /home/ubuntu/.local/lib/python3.8/site-packages (from matplotlib->-r ../../requirements.txt (line 3)) (1.1.1)\n",
      "Requirement already satisfied: cycler>=0.10 in /home/ubuntu/.local/lib/python3.8/site-packages (from matplotlib->-r ../../requirements.txt (line 3)) (0.12.1)\n",
      "Requirement already satisfied: fonttools>=4.22.0 in /home/ubuntu/.local/lib/python3.8/site-packages (from matplotlib->-r ../../requirements.txt (line 3)) (4.53.0)\n",
      "Requirement already satisfied: kiwisolver>=1.0.1 in /home/ubuntu/.local/lib/python3.8/site-packages (from matplotlib->-r ../../requirements.txt (line 3)) (1.4.5)\n",
      "Requirement already satisfied: pillow>=6.2.0 in /home/ubuntu/.local/lib/python3.8/site-packages (from matplotlib->-r ../../requirements.txt (line 3)) (10.3.0)\n",
      "Requirement already satisfied: pyparsing>=2.3.1 in /home/ubuntu/.local/lib/python3.8/site-packages (from matplotlib->-r ../../requirements.txt (line 3)) (3.1.2)\n",
      "Requirement already satisfied: python-dateutil>=2.7 in /usr/local/lib/python3.8/dist-packages (from matplotlib->-r ../../requirements.txt (line 3)) (2.9.0.post0)\n",
      "Requirement already satisfied: importlib-resources>=3.2.0 in /usr/local/lib/python3.8/dist-packages (from matplotlib->-r ../../requirements.txt (line 3)) (6.4.0)\n",
      "Requirement already satisfied: typing-extensions>=4.8.0 in /usr/local/lib/python3.8/dist-packages (from torch->-r ../../requirements.txt (line 4)) (4.12.1)\n",
      "Requirement already satisfied: sympy in /home/ubuntu/.local/lib/python3.8/site-packages (from torch->-r ../../requirements.txt (line 4)) (1.12.1)\n",
      "Requirement already satisfied: networkx in /home/ubuntu/.local/lib/python3.8/site-packages (from torch->-r ../../requirements.txt (line 4)) (3.1)\n",
      "Requirement already satisfied: jinja2 in /usr/local/lib/python3.8/dist-packages (from torch->-r ../../requirements.txt (line 4)) (3.1.4)\n",
      "Requirement already satisfied: fsspec in /home/ubuntu/.local/lib/python3.8/site-packages (from torch->-r ../../requirements.txt (line 4)) (2024.6.0)\n",
      "Requirement already satisfied: nvidia-cuda-nvrtc-cu12==12.1.105 in /home/ubuntu/.local/lib/python3.8/site-packages (from torch->-r ../../requirements.txt (line 4)) (12.1.105)\n",
      "Requirement already satisfied: nvidia-cuda-runtime-cu12==12.1.105 in /home/ubuntu/.local/lib/python3.8/site-packages (from torch->-r ../../requirements.txt (line 4)) (12.1.105)\n",
      "Requirement already satisfied: nvidia-cuda-cupti-cu12==12.1.105 in /home/ubuntu/.local/lib/python3.8/site-packages (from torch->-r ../../requirements.txt (line 4)) (12.1.105)\n",
      "Requirement already satisfied: nvidia-cudnn-cu12==8.9.2.26 in /home/ubuntu/.local/lib/python3.8/site-packages (from torch->-r ../../requirements.txt (line 4)) (8.9.2.26)\n",
      "Requirement already satisfied: nvidia-cublas-cu12==12.1.3.1 in /home/ubuntu/.local/lib/python3.8/site-packages (from torch->-r ../../requirements.txt (line 4)) (12.1.3.1)\n",
      "Requirement already satisfied: nvidia-cufft-cu12==11.0.2.54 in /home/ubuntu/.local/lib/python3.8/site-packages (from torch->-r ../../requirements.txt (line 4)) (11.0.2.54)\n",
      "Requirement already satisfied: nvidia-curand-cu12==10.3.2.106 in /home/ubuntu/.local/lib/python3.8/site-packages (from torch->-r ../../requirements.txt (line 4)) (10.3.2.106)\n",
      "Requirement already satisfied: nvidia-cusolver-cu12==11.4.5.107 in /home/ubuntu/.local/lib/python3.8/site-packages (from torch->-r ../../requirements.txt (line 4)) (11.4.5.107)\n",
      "Requirement already satisfied: nvidia-cusparse-cu12==12.1.0.106 in /home/ubuntu/.local/lib/python3.8/site-packages (from torch->-r ../../requirements.txt (line 4)) (12.1.0.106)\n",
      "Requirement already satisfied: nvidia-nccl-cu12==2.20.5 in /home/ubuntu/.local/lib/python3.8/site-packages (from torch->-r ../../requirements.txt (line 4)) (2.20.5)\n",
      "Requirement already satisfied: nvidia-nvtx-cu12==12.1.105 in /home/ubuntu/.local/lib/python3.8/site-packages (from torch->-r ../../requirements.txt (line 4)) (12.1.105)\n",
      "Requirement already satisfied: triton==2.3.0 in /home/ubuntu/.local/lib/python3.8/site-packages (from torch->-r ../../requirements.txt (line 4)) (2.3.0)\n",
      "Requirement already satisfied: nvidia-nvjitlink-cu12 in /home/ubuntu/.local/lib/python3.8/site-packages (from nvidia-cusolver-cu12==11.4.5.107->torch->-r ../../requirements.txt (line 4)) (12.5.40)\n",
      "Requirement already satisfied: bleach in /usr/local/lib/python3.8/dist-packages (from kaggle->-r ../../requirements.txt (line 6)) (6.1.0)\n",
      "Requirement already satisfied: certifi>=2023.7.22 in /home/ubuntu/.local/lib/python3.8/site-packages (from kaggle->-r ../../requirements.txt (line 6)) (2024.6.2)\n",
      "Requirement already satisfied: python-slugify in /home/ubuntu/.local/lib/python3.8/site-packages (from kaggle->-r ../../requirements.txt (line 6)) (8.0.4)\n",
      "Requirement already satisfied: six>=1.10 in /usr/lib/python3/dist-packages (from kaggle->-r ../../requirements.txt (line 6)) (1.14.0)\n",
      "Requirement already satisfied: urllib3 in /usr/lib/python3/dist-packages (from kaggle->-r ../../requirements.txt (line 6)) (1.25.8)\n",
      "Requirement already satisfied: scipy>=1.5.0 in /home/ubuntu/.local/lib/python3.8/site-packages (from scikit-learn->-r ../../requirements.txt (line 7)) (1.10.1)\n",
      "Requirement already satisfied: joblib>=1.1.1 in /home/ubuntu/.local/lib/python3.8/site-packages (from scikit-learn->-r ../../requirements.txt (line 7)) (1.4.2)\n",
      "Requirement already satisfied: threadpoolctl>=2.0.0 in /home/ubuntu/.local/lib/python3.8/site-packages (from scikit-learn->-r ../../requirements.txt (line 7)) (3.5.0)\n",
      "Requirement already satisfied: pandas>=1.2 in /home/ubuntu/.local/lib/python3.8/site-packages (from seaborn->-r ../../requirements.txt (line 8)) (2.0.3)\n",
      "Requirement already satisfied: zipp>=3.1.0 in /usr/local/lib/python3.8/dist-packages (from importlib-resources>=3.2.0->matplotlib->-r ../../requirements.txt (line 3)) (3.19.2)\n",
      "Requirement already satisfied: pytz>=2020.1 in /usr/local/lib/python3.8/dist-packages (from pandas>=1.2->seaborn->-r ../../requirements.txt (line 8)) (2024.1)\n",
      "Requirement already satisfied: tzdata>=2022.1 in /home/ubuntu/.local/lib/python3.8/site-packages (from pandas>=1.2->seaborn->-r ../../requirements.txt (line 8)) (2024.1)\n",
      "Requirement already satisfied: webencodings in /usr/local/lib/python3.8/dist-packages (from bleach->kaggle->-r ../../requirements.txt (line 6)) (0.5.1)\n",
      "Requirement already satisfied: MarkupSafe>=2.0 in /usr/local/lib/python3.8/dist-packages (from jinja2->torch->-r ../../requirements.txt (line 4)) (2.1.5)\n",
      "Requirement already satisfied: text-unidecode>=1.3 in /home/ubuntu/.local/lib/python3.8/site-packages (from python-slugify->kaggle->-r ../../requirements.txt (line 6)) (1.3)\n",
      "Requirement already satisfied: charset-normalizer<4,>=2 in /usr/local/lib/python3.8/dist-packages (from requests->transformers->-r ../../requirements.txt (line 2)) (3.3.2)\n",
      "Requirement already satisfied: idna<4,>=2.5 in /usr/lib/python3/dist-packages (from requests->transformers->-r ../../requirements.txt (line 2)) (2.8)\n",
      "Requirement already satisfied: mpmath<1.4.0,>=1.1.0 in /home/ubuntu/.local/lib/python3.8/site-packages (from sympy->torch->-r ../../requirements.txt (line 4)) (1.3.0)\n"
     ]
    }
   ],
   "source": [
    "!pip3 install -r ../../requirements.txt"
   ]
  },
  {
   "cell_type": "markdown",
   "id": "28d52aad-b30b-493d-ba92-5037af2e7f0a",
   "metadata": {},
   "source": [
    "## Data Preprocessing\n",
    "\n",
    "As part of our data preprocessing, we will split the down-scaled lung dataset from the original dataset into a train/test split. \n",
    "\n",
    "Note that we will be using five-fold cross-validation for testing later, hence we will not be partioning an additional validation set. \n",
    "\n",
    "After splitting our data, we will then feed the training set into our models. Here, we will specifically feed it into the AlexNet model. "
   ]
  },
  {
   "cell_type": "code",
   "execution_count": 4,
   "id": "82b162f0-bf43-4f54-b158-99fea42dffe9",
   "metadata": {},
   "outputs": [],
   "source": [
    "import numpy as np\n",
    "import torch\n",
    "import torch.nn as nn\n",
    "import torch.nn.functional as F\n",
    "import torch.optim as optim\n",
    "import torch.utils.data\n",
    "from torchvision import datasets, models, transforms\n",
    "from torch.utils.data import DataLoader, Subset\n",
    "import torchvision.transforms as transforms\n",
    "from torch.utils.data import SubsetRandomSampler\n",
    "from torchvision.datasets import ImageFolder\n",
    "from sklearn.model_selection import KFold\n",
    "\n",
    "from sklearn.svm import SVC\n",
    "from sklearn.preprocessing import StandardScaler\n",
    "from sklearn.linear_model import LogisticRegression\n",
    "from sklearn.pipeline import make_pipeline\n",
    "from sklearn.metrics import accuracy_score, recall_score, precision_score, f1_score, confusion_matrix\n",
    "import os\n",
    "\n",
    "from sklearn.decomposition import PCA\n",
    "\n",
    "import joblib"
   ]
  },
  {
   "cell_type": "markdown",
   "id": "a733a84b-4a8a-467a-a710-00481ee33691",
   "metadata": {
    "jp-MarkdownHeadingCollapsed": true
   },
   "source": [
    "The code below extracts images from our dataset, resizes each into a fourth their original size (768 -> 192), and converts them into Torch tensors. The ImageFolder class allows us to lazyload our images to preserve our computational power."
   ]
  },
  {
   "cell_type": "code",
   "execution_count": 5,
   "id": "0b130d35-ed66-48f9-8bc4-70d63be800f0",
   "metadata": {},
   "outputs": [],
   "source": [
    "# Check current device\n",
    "device = torch.device(\"cuda\" if torch.cuda.is_available() else \"cpu\")\n",
    "\n",
    "# Path to our lung_image_sets\n",
    "data_dir = \"../../lung_colon_image_set/lung_image_sets\"\n",
    "\n",
    "# Define resized size of images (Put this back to 192 later, recommended size of 224)\n",
    "resized_size = 224\n",
    "\n",
    "# Convert images into Tensors\n",
    "tensor_data = transforms.Compose([\n",
    "  transforms.Resize((resized_size, resized_size)),   # Cut image into a fourth of original size\n",
    "  transforms.Grayscale(num_output_channels=1),      # Convert to grayscale\n",
    "  transforms.ToTensor(),\n",
    "  transforms.Lambda(lambda x: x.repeat(3, 1, 1))    # Duplicate channels to get 3 channel image\n",
    "])\n",
    "\n",
    "# Load the dataset using ImageFolder\n",
    "data = ImageFolder(root=data_dir, transform=tensor_data)\n",
    "\n",
    "# Split the dataset into train and test sets\n",
    "train_size = int(0.8 * len(data))\n",
    "test_size = len(data) - train_size\n",
    "train, test = torch.utils.data.random_split(data, [train_size, test_size])\n",
    "\n",
    "# Create KFold object with 5 folds\n",
    "num_folds = 2\n",
    "kfold = KFold(n_splits=5, shuffle=True, random_state=231)"
   ]
  },
  {
   "cell_type": "markdown",
   "id": "e5889221-0182-433f-8c66-0a2d37867709",
   "metadata": {},
   "source": [
    "## Load in pretrained models if possible\n",
    "\n",
    "If we've already trained classifiers, load them in."
   ]
  },
  {
   "cell_type": "code",
   "execution_count": 6,
   "id": "f650be61-b492-43c4-bb1b-3df1cef7a6a8",
   "metadata": {},
   "outputs": [
    {
     "name": "stdout",
     "output_type": "stream",
     "text": [
      "Loaded EfficientNet SVM classifier into svm_tester_classifier\n",
      "Loaded EfficientNet Softmax classifier into softmax_classifier\n",
      "Loaded EfficientNet SVM+PCA classifier into pca_classifier\n"
     ]
    }
   ],
   "source": [
    "# svm_classifier = None\n",
    "# softmax_classifier = None\n",
    "# pca_classifier = None\n",
    "\n",
    "try:\n",
    "    svm_classifier = joblib.load('effnet_svm.pkl')\n",
    "    # svm_tester_classifier = joblib.load('effnet_svm.pkl')\n",
    "    print('Loaded EfficientNet SVM classifier into svm_tester_classifier')\n",
    "except:\n",
    "    print('Could not import EfficientNet SVM classifier, file may not exist.', )\n",
    "    # svm_classifier = None\n",
    "\n",
    "try:\n",
    "    softmax_classifier = joblib.load('effnet_softmax.pkl')\n",
    "    print('Loaded EfficientNet Softmax classifier into softmax_classifier')\n",
    "except:\n",
    "    print('Could not import EfficientNet Softmax classifier, file may not exist.')\n",
    "    softmax_classifier = None\n",
    "\n",
    "try:\n",
    "    pca_classifier = joblib.load('effnet_pca.pkl')\n",
    "    print('Loaded EfficientNet SVM+PCA classifier into pca_classifier')\n",
    "except:\n",
    "    print('Could not import EfficientNet SVM+PCA classifier, file may not exist.')\n",
    "    pca_classifier = None"
   ]
  },
  {
   "cell_type": "markdown",
   "id": "c493416c-19f2-4ec5-b0fc-55087b8258bd",
   "metadata": {},
   "source": [
    "## Model Initialization\n",
    "We will initialize the EfficientNetB0 model using Pytorch's Torchvision pretrained EfficientNetB0 model and remove the final layer to perform feature extraction on our data."
   ]
  },
  {
   "cell_type": "code",
   "execution_count": 7,
   "id": "b1a3fb54",
   "metadata": {},
   "outputs": [
    {
     "name": "stderr",
     "output_type": "stream",
     "text": [
      "/home/ubuntu/.local/lib/python3.8/site-packages/torchvision/models/_utils.py:208: UserWarning: The parameter 'pretrained' is deprecated since 0.13 and may be removed in the future, please use 'weights' instead.\n",
      "  warnings.warn(\n",
      "/home/ubuntu/.local/lib/python3.8/site-packages/torchvision/models/_utils.py:223: UserWarning: Arguments other than a weight enum or `None` for 'weights' are deprecated since 0.13 and may be removed in the future. The current behavior is equivalent to passing `weights=EfficientNet_B0_Weights.IMAGENET1K_V1`. You can also use `weights=EfficientNet_B0_Weights.DEFAULT` to get the most up-to-date weights.\n",
      "  warnings.warn(msg)\n"
     ]
    }
   ],
   "source": [
    "from torchvision.models import efficientnet_b0\n",
    "\n",
    "# Define the ConvNeXtCNN model\n",
    "class EfficientNetCNN(nn.Module):\n",
    "    def __init__(self):\n",
    "        super(EfficientNetCNN, self).__init__()\n",
    "        \n",
    "        # Load the pre-trained EfficientNet-B4 model as our feature extractor\n",
    "        self.efficientnet = efficientnet_b0(pretrained=True)\n",
    "        \n",
    "        # Remove the last layer and freeze the model\n",
    "        self.efficientnet.classifier = nn.Sequential(*list(self.efficientnet.classifier.children())[:-1])\n",
    "        self.efficientnet.classifier.eval()\n",
    "\n",
    "    def forward(self, x):\n",
    "        # Pass the input through the ConvNeXt model\n",
    "        # Pass the input through the EfficientNet model\n",
    "        x = self.efficientnet(x)\n",
    "        return x\n",
    "        \n",
    "# Define instance of our ConvNeXt model\n",
    "model = EfficientNetCNN()"
   ]
  },
  {
   "cell_type": "markdown",
   "id": "ac1baae0",
   "metadata": {},
   "source": [
    "### EfficientNetB0 + SVM\n",
    "For our first situation, we will use SVM to do classification on our extracted features."
   ]
  },
  {
   "cell_type": "code",
   "execution_count": 21,
   "id": "bf5eb6da-8330-44ec-96d5-ead70efe5b19",
   "metadata": {},
   "outputs": [
    {
     "name": "stdout",
     "output_type": "stream",
     "text": [
      "Fold 1\n",
      "Fold 1 Accuracy: 0.9121\n",
      "Fold 2\n",
      "Fold 2 Accuracy: 0.9167\n",
      "Fold 3\n",
      "Fold 3 Accuracy: 0.9213\n",
      "Fold 4\n",
      "Fold 4 Accuracy: 0.9175\n",
      "Fold 5\n",
      "Fold 5 Accuracy: 0.9254\n",
      "\n",
      "K-FOLD CROSS VALIDATION RESULTS FOR 5 FOLDS\n",
      "--------------------------------\n",
      "Fold 1: 0.9121\n",
      "Fold 2: 0.9167\n",
      "Fold 3: 0.9213\n",
      "Fold 4: 0.9175\n",
      "Fold 5: 0.9254\n",
      "Average: 0.9186\n"
     ]
    }
   ],
   "source": [
    "# Define our SVM classifier\n",
    "svm_classifier = make_pipeline(StandardScaler(), SVC(kernel='linear'))\n",
    "\n",
    "# Construct results dict to track training\n",
    "results = {}\n",
    "\n",
    "# K-Fold Cross Validation\n",
    "for fold, (train_indices, val_indices) in enumerate(kfold.split(train), 1):\n",
    "    print(f'Fold {fold}')\n",
    "\n",
    "    # Create data samplers for train and validation sets\n",
    "    train_sampler = SubsetRandomSampler(train_indices)\n",
    "    val_sampler = SubsetRandomSampler(val_indices)\n",
    "\n",
    "    # Create data loaders for train and validation sets\n",
    "    train_loader = DataLoader(train, batch_size=32, sampler=train_sampler)\n",
    "    val_loader = DataLoader(train, batch_size=32, sampler=val_sampler)\n",
    "    \n",
    "    # Extract features and labels for the training set using ConvNeXt\n",
    "    train_features = []\n",
    "    train_labels = []\n",
    "    with torch.no_grad():\n",
    "        for inputs, labels in train_loader:\n",
    "            outputs = model.forward(inputs)\n",
    "            outputs = outputs.view(outputs.size(0), -1)\n",
    "            train_features.append(outputs.cpu().numpy())\n",
    "            train_labels.append(labels.cpu().numpy())\n",
    "    train_features = np.concatenate(train_features)\n",
    "    train_labels = np.concatenate(train_labels)\n",
    "\n",
    "    # Train the SVM classifier\n",
    "    svm_classifier.fit(train_features, train_labels)\n",
    "    \n",
    "    # Extract features and labels for the validation set using ConvNeXt\n",
    "    val_features = []\n",
    "    val_labels = []\n",
    "    with torch.no_grad():\n",
    "        for inputs, labels in val_loader:\n",
    "            outputs = model.forward(inputs)\n",
    "            outputs = outputs.view(outputs.size(0), -1)\n",
    "            val_features.append(outputs.cpu().numpy())\n",
    "            val_labels.append(labels.cpu().numpy())\n",
    "    val_features = np.concatenate(val_features)\n",
    "    val_labels = np.concatenate(val_labels)\n",
    "\n",
    "    # Evaluate the classifier on the validation set and extract metrics\n",
    "    val_predictions = svm_classifier.predict(val_features)\n",
    "    accuracy = accuracy_score(val_labels, val_predictions)\n",
    "\n",
    "    results[fold] = accuracy\n",
    "    print(f'Fold {fold} Accuracy: {accuracy:.4f}')\n",
    "\n",
    "# Print the average metrics across all folds\n",
    "average_accuracy = np.mean(list(results.values()))\n",
    "\n",
    "print(f'\\nK-FOLD CROSS VALIDATION RESULTS FOR {num_folds} FOLDS')\n",
    "print('--------------------------------')\n",
    "for fold in results:\n",
    "    print(f'Fold {fold}: {results[fold]:.4f}')\n",
    "print(f'Average: {average_accuracy:.4f}')"
   ]
  },
  {
   "cell_type": "code",
   "execution_count": 26,
   "id": "e646975f-6611-46f5-9d4c-255c9d2c6d42",
   "metadata": {},
   "outputs": [
    {
     "data": {
      "text/plain": [
       "['effnet_svm.pkl']"
      ]
     },
     "execution_count": 26,
     "metadata": {},
     "output_type": "execute_result"
    }
   ],
   "source": [
    "joblib.dump(svm_classifier, 'effnet_svm.pkl')"
   ]
  },
  {
   "cell_type": "markdown",
   "id": "248c0991-e26b-4c2c-85da-e4c7c60eb54c",
   "metadata": {},
   "source": [
    "## EfficientNetB0 + Softmax Classifier Training and Testing\n",
    "We will perform k-fold cross-validation testing on the Softmax classifier, which is trained the on features extracted by our EfficientNetB0 model."
   ]
  },
  {
   "cell_type": "code",
   "execution_count": 10,
   "id": "c86ef1e2-752f-4e85-bedd-1e3508f3e3ee",
   "metadata": {},
   "outputs": [
    {
     "name": "stdout",
     "output_type": "stream",
     "text": [
      "Fold 1\n",
      "Fold 1 Accuracy: 0.9246\n",
      "Fold 2\n",
      "Fold 2 Accuracy: 0.9287\n",
      "Fold 3\n",
      "Fold 3 Accuracy: 0.9242\n",
      "Fold 4\n",
      "Fold 4 Accuracy: 0.9158\n",
      "Fold 5\n",
      "Fold 5 Accuracy: 0.9313\n",
      "\n",
      "K-FOLD CROSS VALIDATION RESULTS FOR 2 FOLDS\n",
      "--------------------------------\n",
      "Fold 1: 0.9246\n",
      "Fold 2: 0.9287\n",
      "Fold 3: 0.9242\n",
      "Fold 4: 0.9158\n",
      "Fold 5: 0.9313\n",
      "Average: 0.9249\n"
     ]
    }
   ],
   "source": [
    "# Construct results dict to track training\n",
    "results = {}\n",
    "\n",
    "# Create the softmax classifier pipeline via a Logistic Regression with Softmax activation.\n",
    "softmax_classifier = make_pipeline(\n",
    "    StandardScaler(),\n",
    "    LogisticRegression(multi_class='multinomial', solver='lbfgs', max_iter=400, C=1.0, random_state=231)\n",
    ")\n",
    "\n",
    "# K-Fold Cross Validation\n",
    "for fold, (train_indices, val_indices) in enumerate(kfold.split(train), 1):\n",
    "    print(f'Fold {fold}')\n",
    "\n",
    "    # Create data samplers for train and validation sets\n",
    "    train_sampler = SubsetRandomSampler(train_indices)\n",
    "    val_sampler = SubsetRandomSampler(val_indices)\n",
    "\n",
    "    # Create data loaders for train and validation sets\n",
    "    train_loader = DataLoader(train, batch_size=32, sampler=train_sampler)\n",
    "    val_loader = DataLoader(train, batch_size=32, sampler=val_sampler)\n",
    "\n",
    "    # Extract features and labels for the training set using ConvNeXt\n",
    "    features = []\n",
    "    labels = []\n",
    "    with torch.no_grad():\n",
    "        for inputs, targets in train_loader:\n",
    "            outputs = model.forward(inputs)\n",
    "            outputs = outputs.view(outputs.size(0), -1)\n",
    "            features.append(outputs.cpu().numpy())\n",
    "            labels.append(targets.numpy())\n",
    "    features = np.concatenate(features)\n",
    "    labels = np.concatenate(labels)\n",
    "\n",
    "    # Train the softmax classifier\n",
    "    softmax_classifier.fit(features, labels)\n",
    "\n",
    "    # Extract features and labels for the validation set using ConvNeXt\n",
    "    val_features = []\n",
    "    val_labels = []\n",
    "    with torch.no_grad():\n",
    "        for inputs, labels in val_loader:\n",
    "            outputs = model.forward(inputs)\n",
    "            outputs = outputs.view(outputs.size(0), -1)\n",
    "            val_features.append(outputs.cpu().numpy())\n",
    "            val_labels.append(labels.cpu().numpy())\n",
    "    val_features = np.concatenate(val_features)\n",
    "    val_labels = np.concatenate(val_labels)\n",
    "\n",
    "    # Evaluate the classifier on the validation set and extract metrics\n",
    "    val_predictions = softmax_classifier.predict(val_features)\n",
    "    accuracy = accuracy_score(val_labels, val_predictions)\n",
    "\n",
    "    results[fold] = accuracy\n",
    "    print(f'Fold {fold} Accuracy: {accuracy:.4f}')\n",
    "\n",
    "# Print the average metrics across all folds\n",
    "average_accuracy = np.mean(list(results.values()))\n",
    "\n",
    "print(f'\\nK-FOLD CROSS VALIDATION RESULTS FOR {num_folds} FOLDS')\n",
    "print('--------------------------------')\n",
    "for fold in results:\n",
    "    print(f'Fold {fold}: {results[fold]:.4f}')\n",
    "print(f'Average: {average_accuracy:.4f}')"
   ]
  },
  {
   "cell_type": "markdown",
   "id": "f61e6f30-5060-44d9-a43e-9aba55ae3846",
   "metadata": {},
   "source": [
    "### save the model!"
   ]
  },
  {
   "cell_type": "code",
   "execution_count": 22,
   "id": "bad4e8cf-f4b8-45a4-bee4-410b2d48bfe3",
   "metadata": {},
   "outputs": [
    {
     "data": {
      "text/plain": [
       "['effnet_softmax.pkl']"
      ]
     },
     "execution_count": 22,
     "metadata": {},
     "output_type": "execute_result"
    }
   ],
   "source": [
    "joblib.dump(softmax_classifier, 'effnet_softmax.pkl')"
   ]
  },
  {
   "cell_type": "markdown",
   "id": "12377846-c63a-41c8-923d-3902e581801e",
   "metadata": {},
   "source": [
    "## EfficientNetB0 + PCA + SVM Classifier Training and Testing\n",
    "As an extension to our SVM implementation, the paper suggests that applying PCA on the resulting features derives higher accuracy before being loaded into the SVM classifier. We implement this approach below, performing k-fold cross-validation testing on the PCA + SVM classifier, which is trained the on features extracted by our EfficientNetB0 model."
   ]
  },
  {
   "cell_type": "code",
   "execution_count": 14,
   "id": "ed75428c-079a-45ec-836f-7ef682d91427",
   "metadata": {},
   "outputs": [
    {
     "name": "stdout",
     "output_type": "stream",
     "text": [
      "Fold 1\n",
      "Fold 1 Accuracy: 0.9033\n",
      "Fold 2\n",
      "Fold 2 Accuracy: 0.8985\n",
      "\n",
      "K-FOLD CROSS VALIDATION RESULTS FOR 2 FOLDS\n",
      "--------------------------------\n",
      "Fold 1: 0.9033\n",
      "Fold 2: 0.8985\n",
      "Average: 0.9009\n"
     ]
    }
   ],
   "source": [
    "# Store the results of each fold\n",
    "num_folds = 2\n",
    "kfold = KFold(n_splits=num_folds, shuffle=True, random_state=231)\n",
    "results = {}\n",
    "\n",
    "# Reduce dimensionality to 20 via PCA\n",
    "n_components = 24\n",
    "\n",
    "# Create the SVM classifier\n",
    "pca_classifier = make_pipeline(\n",
    "    StandardScaler(), \n",
    "    PCA(n_components=n_components), \n",
    "    SVC(kernel='linear')\n",
    ")\n",
    "\n",
    "# K-Fold Cross Validation\n",
    "for fold, (train_indices, val_indices) in enumerate(kfold.split(train), 1):\n",
    "    print(f'Fold {fold}')\n",
    "\n",
    "    # Create data samplers for train and validation sets\n",
    "    train_sampler = SubsetRandomSampler(train_indices)\n",
    "    val_sampler = SubsetRandomSampler(val_indices)\n",
    "\n",
    "    # Create data loaders for train and validation sets\n",
    "    train_loader = DataLoader(train, batch_size=32, sampler=train_sampler)\n",
    "    val_loader = DataLoader(train, batch_size=32, sampler=val_sampler)\n",
    "    \n",
    "    # Extract features and labels for the training set\n",
    "    train_features = []\n",
    "    train_labels = []\n",
    "    with torch.no_grad():\n",
    "        for inputs, labels in train_loader:\n",
    "            outputs = model.forward(inputs)\n",
    "            outputs = outputs.view(outputs.size(0), -1)\n",
    "            train_features.append(outputs.cpu().numpy())\n",
    "            train_labels.append(labels.cpu().numpy())\n",
    "    train_features = np.concatenate(train_features)\n",
    "    train_labels = np.concatenate(train_labels)\n",
    "\n",
    "    # Train the SVM classifier with PCA\n",
    "    pca_classifier.fit(train_features, train_labels)\n",
    "    \n",
    "    # Extract features and labels for the validation set\n",
    "    val_features = []\n",
    "    val_labels = []\n",
    "    with torch.no_grad():\n",
    "        for inputs, labels in val_loader:\n",
    "            outputs = model.forward(inputs)\n",
    "            outputs = outputs.view(outputs.size(0), -1)\n",
    "            val_features.append(outputs.cpu().numpy())\n",
    "            val_labels.append(labels.cpu().numpy())\n",
    "    val_features = np.concatenate(val_features)\n",
    "    val_labels = np.concatenate(val_labels)\n",
    "\n",
    "    # Evaluate the classifier on the validation set\n",
    "    val_predictions = pca_classifier.predict(val_features)\n",
    "    accuracy = accuracy_score(val_labels, val_predictions)\n",
    "    results[fold] = accuracy\n",
    "    print(f'Fold {fold} Accuracy: {accuracy:.4f}')\n",
    "\n",
    "# Print the average accuracy across all folds\n",
    "average_accuracy = np.mean(list(results.values()))\n",
    "print(f'\\nK-FOLD CROSS VALIDATION RESULTS FOR {num_folds} FOLDS')\n",
    "print('--------------------------------')\n",
    "for fold in results:\n",
    "    print(f'Fold {fold}: {results[fold]:.4f}')\n",
    "print(f'Average: {average_accuracy:.4f}')"
   ]
  },
  {
   "cell_type": "code",
   "execution_count": 21,
   "id": "c40d5a5e-03f7-48f7-b864-481a6040fbef",
   "metadata": {},
   "outputs": [
    {
     "data": {
      "text/plain": [
       "['effnet_pca.pkl']"
      ]
     },
     "execution_count": 21,
     "metadata": {},
     "output_type": "execute_result"
    }
   ],
   "source": [
    "joblib.dump(pca_classifier, 'effnet_pca.pkl')"
   ]
  },
  {
   "cell_type": "markdown",
   "id": "d048240c",
   "metadata": {},
   "source": [
    "### Testing and Metrics\n",
    "\n",
    "Now with our trained models, we will now test with our test set and store metrics for each model. The metrics that we will store are the following:\n",
    "- Accuracy\n",
    "- Precision\n",
    "- Recall\n",
    "- F1\n",
    "\n",
    "The metrics are defined in our paper more clearly, but to calculate these we will calculate the the following values:\n",
    "- True Positive (TP)\n",
    "- False Positive (FP)\n",
    "- True Negative (TN)\n",
    "- False Negative (FN)\n",
    "\n",
    "We calculate these values below:"
   ]
  },
  {
   "cell_type": "code",
   "execution_count": 8,
   "id": "73b1fcf4",
   "metadata": {},
   "outputs": [],
   "source": [
    "# Extract features for training and validation sets\n",
    "def extract_features(loader, model):\n",
    "    features_list, labels_list = [], []\n",
    "    with torch.no_grad():\n",
    "        for inputs, labels in loader:\n",
    "            features = model(inputs)\n",
    "            features = features.view(features.size(0), -1)\n",
    "            features_list.append(features.cpu().numpy())\n",
    "            labels_list.append(labels.cpu().numpy())\n",
    "    return np.concatenate(features_list), np.concatenate(labels_list)"
   ]
  },
  {
   "cell_type": "code",
   "execution_count": 13,
   "id": "3c09f400-672c-44b6-8baa-9c7737a5e18c",
   "metadata": {},
   "outputs": [],
   "source": [
    "def confusion_matrix_maker(test_labels, test_predictions, classname):\n",
    "    # Calculate confusion matrix\n",
    "    cm = confusion_matrix(test_labels, test_predictions, normalize=\"true\")\n",
    "\n",
    "    # the labels\n",
    "    label_names = [\"ACA\", \"Healthy\", \"SCC\"]\n",
    "\n",
    "    # Plot confusion matrix using seaborn\n",
    "    plt.figure(figsize=(10, 8))\n",
    "    sns.heatmap(cm, annot=True, fmt=\"d\", xticklabels=label_names, yticklabels=label_names)\n",
    "    plt.xlabel(\"Predicted labels\")\n",
    "    plt.ylabel(\"True labels\")\n",
    "    plt.title(\"Confusion Matrix: EfficientNetB0 \", classname)\n",
    "    plt.show()\n",
    "    plt.savefig(str(classname))"
   ]
  },
  {
   "cell_type": "code",
   "execution_count": null,
   "id": "4a89d2c4-5b77-4b2d-bd55-f7c4a54c0813",
   "metadata": {},
   "outputs": [],
   "source": [
    "# Extract Features\n",
    "test_loader = DataLoader(test, batch_size=32, shuffle=False)\n",
    "test_features, test_labels = extract_features(test_loader, model)\n",
    "\n",
    "# List of trained classifiers\n",
    "classifiers = {\n",
    "    'SVM': svm_classifier,   # Assume svm_model is already trained\n",
    "    'Softmax': softmax_classifier,  # Another trained classifier\n",
    "    'SVM+PCA': pca_classifier   # Another trained classifier\n",
    "}\n",
    "\n",
    "# Dictionary to store results\n",
    "results = {class_name: {} for class_name in classifiers}\n",
    "\n",
    "# Evaluate each classifier\n",
    "for class_name, classifier in classifiers.items():\n",
    "    # Predict using the classifier\n",
    "    test_predictions = classifier.predict(test_features)\n",
    "    \n",
    "    # Calculate metrics\n",
    "    accuracy = accuracy_score(test_labels, test_predictions)\n",
    "    precision = precision_score(test_labels, test_predictions, average='weighted')\n",
    "    recall = recall_score(test_labels, test_predictions, average='weighted')\n",
    "    f1 = f1_score(test_labels, test_predictions, average='weighted')\n",
    "    \n",
    "    # Store the results\n",
    "    results[class_name]['accuracy'] = accuracy\n",
    "    results[class_name]['precision'] = precision\n",
    "    results[class_name]['recall'] = recall\n",
    "    results[class_name]['f1'] = f1\n",
    "\n",
    "    # Print the results\n",
    "    print(f'{class_name} - Accuracy: {accuracy:.4f}, Precision: {precision:.4f}, Recall: {recall:.4f}, F1 Score: {f1:.4f}')\n",
    "\n",
    "    # Make the confusion matrix\n",
    "    confusion_matrix_maker(test_labels, test_predictions, class_name)\n",
    "\n",
    "# Print a summary of the results\n",
    "print('Comparison of Classifiers on Test Set:')\n",
    "for clf_name in results:\n",
    "    print(f'{clf_name}: Accuracy={results[clf_name][\"accuracy\"]:.4f}, Precision={results[clf_name][\"precision\"]:.4f}, Recall={results[clf_name][\"recall\"]:.4f}, F1 Score={results[clf_name][\"f1\"]:.4f}')"
   ]
  },
  {
   "cell_type": "code",
   "execution_count": null,
   "id": "5440dd95-94b9-4620-b885-7ba49e77d7b6",
   "metadata": {},
   "outputs": [],
   "source": []
  }
 ],
 "metadata": {
  "kernelspec": {
   "display_name": "Python 3 (ipykernel)",
   "language": "python",
   "name": "python3"
  },
  "language_info": {
   "codemirror_mode": {
    "name": "ipython",
    "version": 3
   },
   "file_extension": ".py",
   "mimetype": "text/x-python",
   "name": "python",
   "nbconvert_exporter": "python",
   "pygments_lexer": "ipython3",
   "version": "3.8.10"
  }
 },
 "nbformat": 4,
 "nbformat_minor": 5
}
